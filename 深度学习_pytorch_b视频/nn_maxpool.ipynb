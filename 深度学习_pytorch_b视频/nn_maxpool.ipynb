{
 "cells": [
  {
   "cell_type": "code",
   "execution_count": 5,
   "id": "initial_id",
   "metadata": {
    "collapsed": true,
    "ExecuteTime": {
     "end_time": "2024-04-01T00:36:04.953756100Z",
     "start_time": "2024-04-01T00:36:04.914860300Z"
    }
   },
   "outputs": [],
   "source": [
    "import torch \n",
    "from torch import nn"
   ]
  },
  {
   "cell_type": "code",
   "execution_count": 11,
   "outputs": [
    {
     "name": "stdout",
     "output_type": "stream",
     "text": [
      "torch.Size([5, 5])\n",
      "tensor([[1., 2., 0., 3., 1.],\n",
      "        [0., 1., 2., 3., 1.],\n",
      "        [1., 2., 1., 0., 0.],\n",
      "        [5., 2., 3., 1., 1.],\n",
      "        [2., 1., 0., 1., 1.]])\n"
     ]
    }
   ],
   "source": [
    "input = torch.tensor([\n",
    "    [1,2,0,3,1],\n",
    "    [0,1,2,3,1],\n",
    "    [1,2,1,0,0],\n",
    "    [5,2,3,1,1],\n",
    "    [2,1,0,1,1]\n",
    "],dtype=torch.float)\n",
    "print(input.shape)\n",
    "print(input)"
   ],
   "metadata": {
    "collapsed": false,
    "ExecuteTime": {
     "end_time": "2024-04-01T00:40:00.835192Z",
     "start_time": "2024-04-01T00:40:00.795297Z"
    }
   },
   "id": "2cb2b14ae805ffe6"
  },
  {
   "cell_type": "code",
   "execution_count": 13,
   "outputs": [
    {
     "name": "stdout",
     "output_type": "stream",
     "text": [
      "torch.Size([1, 1, 5, 5])\n"
     ]
    }
   ],
   "source": [
    "# 改变input的张量\n",
    "input = torch.reshape(input,(1,1,5,5))\n",
    "print(input.shape)"
   ],
   "metadata": {
    "collapsed": false,
    "ExecuteTime": {
     "end_time": "2024-04-01T00:40:19.998339Z",
     "start_time": "2024-04-01T00:40:19.936480Z"
    }
   },
   "id": "f391832b531e12ef"
  },
  {
   "cell_type": "code",
   "execution_count": 19,
   "outputs": [],
   "source": [
    "class Tudui(nn.Module):\n",
    "    def __init__(self):\n",
    "        super(Tudui,self).__init__()\n",
    "        self.maxpool = nn.MaxPool2d(kernel_size=3,stride=3,ceil_mode=False)\n",
    "    def forward(self,input):\n",
    "        output = self.maxpool(input)\n",
    "        return output"
   ],
   "metadata": {
    "collapsed": false,
    "ExecuteTime": {
     "end_time": "2024-04-01T00:43:05.012373600Z",
     "start_time": "2024-04-01T00:43:04.971532300Z"
    }
   },
   "id": "906c323ed01502b8"
  },
  {
   "cell_type": "code",
   "execution_count": 20,
   "outputs": [
    {
     "name": "stdout",
     "output_type": "stream",
     "text": [
      "tensor([[[[2.]]]])\n",
      "torch.Size([1, 1, 1, 1])\n"
     ]
    }
   ],
   "source": [
    "tudui = Tudui()\n",
    "output = tudui(input)\n",
    "print(output)\n",
    "print(output.shape)\n"
   ],
   "metadata": {
    "collapsed": false,
    "ExecuteTime": {
     "end_time": "2024-04-01T00:43:05.701993Z",
     "start_time": "2024-04-01T00:43:05.659112Z"
    }
   },
   "id": "decf10ffd3fdb129"
  },
  {
   "cell_type": "code",
   "execution_count": null,
   "outputs": [],
   "source": [],
   "metadata": {
    "collapsed": false
   },
   "id": "cb85cd3a99c07c89"
  }
 ],
 "metadata": {
  "kernelspec": {
   "display_name": "Python 3",
   "language": "python",
   "name": "python3"
  },
  "language_info": {
   "codemirror_mode": {
    "name": "ipython",
    "version": 2
   },
   "file_extension": ".py",
   "mimetype": "text/x-python",
   "name": "python",
   "nbconvert_exporter": "python",
   "pygments_lexer": "ipython2",
   "version": "2.7.6"
  }
 },
 "nbformat": 4,
 "nbformat_minor": 5
}
