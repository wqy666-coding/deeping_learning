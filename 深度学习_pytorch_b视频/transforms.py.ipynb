{
 "cells": [
  {
   "cell_type": "code",
   "execution_count": 15,
   "id": "initial_id",
   "metadata": {
    "collapsed": true,
    "ExecuteTime": {
     "end_time": "2024-03-31T06:02:47.279049100Z",
     "start_time": "2024-03-31T06:02:47.138426700Z"
    }
   },
   "outputs": [],
   "source": [
    "import cv2 as cv\n",
    "from torchvision import transforms\n",
    "from torch.utils.tensorboard import SummaryWriter"
   ]
  },
  {
   "cell_type": "code",
   "execution_count": 17,
   "outputs": [
    {
     "name": "stdout",
     "output_type": "stream",
     "text": [
      "tensor([[[0.3216, 0.3216, 0.3294,  ..., 0.3569, 0.3451, 0.3333],\n",
      "         [0.3176, 0.3176, 0.3294,  ..., 0.3294, 0.3255, 0.3176],\n",
      "         [0.3137, 0.3176, 0.3255,  ..., 0.3176, 0.3137, 0.3137],\n",
      "         ...,\n",
      "         [0.0902, 0.0784, 0.0039,  ..., 0.3176, 0.3216, 0.3216],\n",
      "         [0.1216, 0.0706, 0.0196,  ..., 0.3216, 0.3216, 0.3216],\n",
      "         [0.2235, 0.0902, 0.0196,  ..., 0.3255, 0.3176, 0.3176]],\n",
      "\n",
      "        [[0.4039, 0.4039, 0.4039,  ..., 0.4078, 0.3961, 0.3843],\n",
      "         [0.4000, 0.4000, 0.4039,  ..., 0.3922, 0.3882, 0.3804],\n",
      "         [0.3961, 0.4000, 0.4000,  ..., 0.3804, 0.3765, 0.3765],\n",
      "         ...,\n",
      "         [0.2824, 0.2549, 0.1647,  ..., 0.4000, 0.4039, 0.4039],\n",
      "         [0.3020, 0.2471, 0.1804,  ..., 0.4039, 0.4039, 0.4039],\n",
      "         [0.4039, 0.2588, 0.1765,  ..., 0.4078, 0.4000, 0.4000]],\n",
      "\n",
      "        [[0.4353, 0.4353, 0.4353,  ..., 0.4392, 0.4275, 0.4157],\n",
      "         [0.4314, 0.4314, 0.4353,  ..., 0.4196, 0.4157, 0.4078],\n",
      "         [0.4275, 0.4314, 0.4314,  ..., 0.4078, 0.4039, 0.4039],\n",
      "         ...,\n",
      "         [0.3843, 0.3098, 0.1725,  ..., 0.4588, 0.4627, 0.4627],\n",
      "         [0.3686, 0.2627, 0.1529,  ..., 0.4627, 0.4627, 0.4627],\n",
      "         [0.4314, 0.2471, 0.1294,  ..., 0.4667, 0.4588, 0.4588]]])\n"
     ]
    }
   ],
   "source": [
    "img = cv.imread('../lianxi_data/train/bees_image/17209602_fe5a5a746f.jpg')\n",
    "\n",
    "# 创建ToTensor的对象\n",
    "tensor_trans = transforms.ToTensor()\n",
    "# # 转化成了tensor的数据类型\n",
    "tensor_img = tensor_trans(img)\n",
    "\n",
    "\n",
    "print(tensor_img)\n"
   ],
   "metadata": {
    "collapsed": false,
    "ExecuteTime": {
     "end_time": "2024-03-31T06:06:23.482954200Z",
     "start_time": "2024-03-31T06:06:23.460014700Z"
    }
   },
   "id": "27436d7d7e09443e"
  },
  {
   "cell_type": "code",
   "execution_count": 21,
   "outputs": [],
   "source": [
    "writer = SummaryWriter('logs')\n",
    "writer.add_image(\"Tensor_img\",tensor_img,3,)\n",
    "writer.close()"
   ],
   "metadata": {
    "collapsed": false,
    "ExecuteTime": {
     "end_time": "2024-03-31T06:08:50.693338800Z",
     "start_time": "2024-03-31T06:08:50.566677400Z"
    }
   },
   "id": "333197c54f64ac47"
  },
  {
   "cell_type": "code",
   "execution_count": 22,
   "outputs": [
    {
     "name": "stdout",
     "output_type": "stream",
     "text": [
      "torch.Size([3, 412, 500])\n"
     ]
    }
   ],
   "source": [
    "print(tensor_img.shape)"
   ],
   "metadata": {
    "collapsed": false,
    "ExecuteTime": {
     "end_time": "2024-03-31T06:09:07.271902200Z",
     "start_time": "2024-03-31T06:09:07.255944600Z"
    }
   },
   "id": "ea94ef40b5272581"
  },
  {
   "cell_type": "code",
   "execution_count": null,
   "outputs": [],
   "source": [],
   "metadata": {
    "collapsed": false
   },
   "id": "bc28ac16a8d0e208"
  }
 ],
 "metadata": {
  "kernelspec": {
   "display_name": "Python 3",
   "language": "python",
   "name": "python3"
  },
  "language_info": {
   "codemirror_mode": {
    "name": "ipython",
    "version": 2
   },
   "file_extension": ".py",
   "mimetype": "text/x-python",
   "name": "python",
   "nbconvert_exporter": "python",
   "pygments_lexer": "ipython2",
   "version": "2.7.6"
  }
 },
 "nbformat": 4,
 "nbformat_minor": 5
}
