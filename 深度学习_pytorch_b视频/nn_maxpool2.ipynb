{
 "cells": [
  {
   "cell_type": "code",
   "execution_count": 9,
   "id": "initial_id",
   "metadata": {
    "collapsed": true,
    "ExecuteTime": {
     "end_time": "2024-04-01T01:13:00.559785900Z",
     "start_time": "2024-04-01T01:13:00.190128200Z"
    }
   },
   "outputs": [],
   "source": [
    "import torchvision\n",
    "from torch import nn\n",
    "from torch.utils.data import DataLoader\n",
    "from torch.utils.tensorboard import SummaryWriter"
   ]
  },
  {
   "cell_type": "code",
   "execution_count": 2,
   "outputs": [
    {
     "name": "stdout",
     "output_type": "stream",
     "text": [
      "Files already downloaded and verified\n"
     ]
    }
   ],
   "source": [
    "dataset = torchvision.datasets.CIFAR10('./dataset',train=False,download=True,transform=torchvision.transforms.ToTensor())"
   ],
   "metadata": {
    "collapsed": false,
    "ExecuteTime": {
     "end_time": "2024-04-01T00:56:26.472947100Z",
     "start_time": "2024-04-01T00:56:25.207332200Z"
    }
   },
   "id": "321ed3dd48364346"
  },
  {
   "cell_type": "code",
   "execution_count": 3,
   "outputs": [],
   "source": [
    "dataloader = DataLoader(dataset,batch_size=64)"
   ],
   "metadata": {
    "collapsed": false,
    "ExecuteTime": {
     "end_time": "2024-04-01T00:56:57.121495Z",
     "start_time": "2024-04-01T00:56:57.098937Z"
    }
   },
   "id": "c975a340d588dc90"
  },
  {
   "cell_type": "code",
   "execution_count": 6,
   "outputs": [],
   "source": [
    "class Tudui(nn.Module):\n",
    "    def __init__(self):\n",
    "        super(Tudui,self).__init__()\n",
    "        self.maxpool = nn.MaxPool2d(kernel_size=3,stride=3,ceil_mode=False)\n",
    "    def forward(self,input):\n",
    "        output = self.maxpool(input)\n",
    "        return output"
   ],
   "metadata": {
    "collapsed": false,
    "ExecuteTime": {
     "end_time": "2024-04-01T01:08:29.400570100Z",
     "start_time": "2024-04-01T01:08:29.383616300Z"
    }
   },
   "id": "c7866684e72bbe3a"
  },
  {
   "cell_type": "code",
   "execution_count": 7,
   "outputs": [
    {
     "name": "stdout",
     "output_type": "stream",
     "text": [
      "torch.Size([64, 3, 10, 10])\n",
      "torch.Size([64, 3, 10, 10])\n",
      "torch.Size([64, 3, 10, 10])\n",
      "torch.Size([64, 3, 10, 10])\n",
      "torch.Size([64, 3, 10, 10])\n",
      "torch.Size([64, 3, 10, 10])\n",
      "torch.Size([64, 3, 10, 10])\n",
      "torch.Size([64, 3, 10, 10])\n",
      "torch.Size([64, 3, 10, 10])\n",
      "torch.Size([64, 3, 10, 10])\n",
      "torch.Size([64, 3, 10, 10])\n",
      "torch.Size([64, 3, 10, 10])\n",
      "torch.Size([64, 3, 10, 10])\n",
      "torch.Size([64, 3, 10, 10])\n",
      "torch.Size([64, 3, 10, 10])\n",
      "torch.Size([64, 3, 10, 10])\n",
      "torch.Size([64, 3, 10, 10])\n",
      "torch.Size([64, 3, 10, 10])\n",
      "torch.Size([64, 3, 10, 10])\n",
      "torch.Size([64, 3, 10, 10])\n",
      "torch.Size([64, 3, 10, 10])\n",
      "torch.Size([64, 3, 10, 10])\n",
      "torch.Size([64, 3, 10, 10])\n",
      "torch.Size([64, 3, 10, 10])\n",
      "torch.Size([64, 3, 10, 10])\n",
      "torch.Size([64, 3, 10, 10])\n",
      "torch.Size([64, 3, 10, 10])\n",
      "torch.Size([64, 3, 10, 10])\n",
      "torch.Size([64, 3, 10, 10])\n",
      "torch.Size([64, 3, 10, 10])\n",
      "torch.Size([64, 3, 10, 10])\n",
      "torch.Size([64, 3, 10, 10])\n",
      "torch.Size([64, 3, 10, 10])\n",
      "torch.Size([64, 3, 10, 10])\n",
      "torch.Size([64, 3, 10, 10])\n",
      "torch.Size([64, 3, 10, 10])\n",
      "torch.Size([64, 3, 10, 10])\n",
      "torch.Size([64, 3, 10, 10])\n",
      "torch.Size([64, 3, 10, 10])\n",
      "torch.Size([64, 3, 10, 10])\n",
      "torch.Size([64, 3, 10, 10])\n",
      "torch.Size([64, 3, 10, 10])\n",
      "torch.Size([64, 3, 10, 10])\n",
      "torch.Size([64, 3, 10, 10])\n",
      "torch.Size([64, 3, 10, 10])\n",
      "torch.Size([64, 3, 10, 10])\n",
      "torch.Size([64, 3, 10, 10])\n",
      "torch.Size([64, 3, 10, 10])\n",
      "torch.Size([64, 3, 10, 10])\n",
      "torch.Size([64, 3, 10, 10])\n",
      "torch.Size([64, 3, 10, 10])\n",
      "torch.Size([64, 3, 10, 10])\n",
      "torch.Size([64, 3, 10, 10])\n",
      "torch.Size([64, 3, 10, 10])\n",
      "torch.Size([64, 3, 10, 10])\n",
      "torch.Size([64, 3, 10, 10])\n",
      "torch.Size([64, 3, 10, 10])\n",
      "torch.Size([64, 3, 10, 10])\n",
      "torch.Size([64, 3, 10, 10])\n",
      "torch.Size([64, 3, 10, 10])\n",
      "torch.Size([64, 3, 10, 10])\n",
      "torch.Size([64, 3, 10, 10])\n",
      "torch.Size([64, 3, 10, 10])\n",
      "torch.Size([64, 3, 10, 10])\n",
      "torch.Size([64, 3, 10, 10])\n",
      "torch.Size([64, 3, 10, 10])\n",
      "torch.Size([64, 3, 10, 10])\n",
      "torch.Size([64, 3, 10, 10])\n",
      "torch.Size([64, 3, 10, 10])\n",
      "torch.Size([64, 3, 10, 10])\n",
      "torch.Size([64, 3, 10, 10])\n",
      "torch.Size([64, 3, 10, 10])\n",
      "torch.Size([64, 3, 10, 10])\n",
      "torch.Size([64, 3, 10, 10])\n",
      "torch.Size([64, 3, 10, 10])\n",
      "torch.Size([64, 3, 10, 10])\n",
      "torch.Size([64, 3, 10, 10])\n",
      "torch.Size([64, 3, 10, 10])\n",
      "torch.Size([64, 3, 10, 10])\n",
      "torch.Size([64, 3, 10, 10])\n",
      "torch.Size([64, 3, 10, 10])\n",
      "torch.Size([64, 3, 10, 10])\n",
      "torch.Size([64, 3, 10, 10])\n",
      "torch.Size([64, 3, 10, 10])\n",
      "torch.Size([64, 3, 10, 10])\n",
      "torch.Size([64, 3, 10, 10])\n",
      "torch.Size([64, 3, 10, 10])\n",
      "torch.Size([64, 3, 10, 10])\n",
      "torch.Size([64, 3, 10, 10])\n",
      "torch.Size([64, 3, 10, 10])\n",
      "torch.Size([64, 3, 10, 10])\n",
      "torch.Size([64, 3, 10, 10])\n",
      "torch.Size([64, 3, 10, 10])\n",
      "torch.Size([64, 3, 10, 10])\n",
      "torch.Size([64, 3, 10, 10])\n",
      "torch.Size([64, 3, 10, 10])\n",
      "torch.Size([64, 3, 10, 10])\n",
      "torch.Size([64, 3, 10, 10])\n",
      "torch.Size([64, 3, 10, 10])\n",
      "torch.Size([64, 3, 10, 10])\n",
      "torch.Size([64, 3, 10, 10])\n",
      "torch.Size([64, 3, 10, 10])\n",
      "torch.Size([64, 3, 10, 10])\n",
      "torch.Size([64, 3, 10, 10])\n",
      "torch.Size([64, 3, 10, 10])\n",
      "torch.Size([64, 3, 10, 10])\n",
      "torch.Size([64, 3, 10, 10])\n",
      "torch.Size([64, 3, 10, 10])\n",
      "torch.Size([64, 3, 10, 10])\n",
      "torch.Size([64, 3, 10, 10])\n",
      "torch.Size([64, 3, 10, 10])\n",
      "torch.Size([64, 3, 10, 10])\n",
      "torch.Size([64, 3, 10, 10])\n",
      "torch.Size([64, 3, 10, 10])\n",
      "torch.Size([64, 3, 10, 10])\n",
      "torch.Size([64, 3, 10, 10])\n",
      "torch.Size([64, 3, 10, 10])\n",
      "torch.Size([64, 3, 10, 10])\n",
      "torch.Size([64, 3, 10, 10])\n",
      "torch.Size([64, 3, 10, 10])\n",
      "torch.Size([64, 3, 10, 10])\n",
      "torch.Size([64, 3, 10, 10])\n",
      "torch.Size([64, 3, 10, 10])\n",
      "torch.Size([64, 3, 10, 10])\n",
      "torch.Size([64, 3, 10, 10])\n",
      "torch.Size([64, 3, 10, 10])\n",
      "torch.Size([64, 3, 10, 10])\n",
      "torch.Size([64, 3, 10, 10])\n",
      "torch.Size([64, 3, 10, 10])\n",
      "torch.Size([64, 3, 10, 10])\n",
      "torch.Size([64, 3, 10, 10])\n",
      "torch.Size([64, 3, 10, 10])\n",
      "torch.Size([64, 3, 10, 10])\n",
      "torch.Size([64, 3, 10, 10])\n",
      "torch.Size([64, 3, 10, 10])\n",
      "torch.Size([64, 3, 10, 10])\n",
      "torch.Size([64, 3, 10, 10])\n",
      "torch.Size([64, 3, 10, 10])\n",
      "torch.Size([64, 3, 10, 10])\n",
      "torch.Size([64, 3, 10, 10])\n",
      "torch.Size([64, 3, 10, 10])\n",
      "torch.Size([64, 3, 10, 10])\n",
      "torch.Size([64, 3, 10, 10])\n",
      "torch.Size([64, 3, 10, 10])\n",
      "torch.Size([64, 3, 10, 10])\n",
      "torch.Size([64, 3, 10, 10])\n",
      "torch.Size([64, 3, 10, 10])\n",
      "torch.Size([64, 3, 10, 10])\n",
      "torch.Size([64, 3, 10, 10])\n",
      "torch.Size([64, 3, 10, 10])\n",
      "torch.Size([64, 3, 10, 10])\n",
      "torch.Size([64, 3, 10, 10])\n",
      "torch.Size([64, 3, 10, 10])\n",
      "torch.Size([64, 3, 10, 10])\n",
      "torch.Size([64, 3, 10, 10])\n",
      "torch.Size([64, 3, 10, 10])\n",
      "torch.Size([16, 3, 10, 10])\n"
     ]
    }
   ],
   "source": [
    "tutui = Tudui()\n",
    "for data in dataloader:\n",
    "    imgs,targets = data\n",
    "    output = tutui(imgs)\n",
    "    print(output.shape)"
   ],
   "metadata": {
    "collapsed": false,
    "ExecuteTime": {
     "end_time": "2024-04-01T01:09:50.104161800Z",
     "start_time": "2024-04-01T01:09:47.598119600Z"
    }
   },
   "id": "170af4b2c3df7f28"
  },
  {
   "cell_type": "code",
   "execution_count": 10,
   "outputs": [],
   "source": [
    "step = 0\n",
    "writer = SummaryWriter(\"nn_maxpool2\")\n",
    "for data in dataloader:\n",
    "    imgs,targets = data\n",
    "    output = tutui(imgs)\n",
    "    writer.add_images(\"old_imgs\",imgs,step)\n",
    "    writer.add_images(\"nes_imgs\",output,step)\n",
    "    step = step+1\n",
    "writer.close()\n",
    "        \n",
    "    "
   ],
   "metadata": {
    "collapsed": false,
    "ExecuteTime": {
     "end_time": "2024-04-01T01:13:27.846608700Z",
     "start_time": "2024-04-01T01:13:04.883186Z"
    }
   },
   "id": "a650243ee2511580"
  },
  {
   "cell_type": "code",
   "execution_count": null,
   "outputs": [],
   "source": [],
   "metadata": {
    "collapsed": false
   },
   "id": "61a90159a7725af0"
  }
 ],
 "metadata": {
  "kernelspec": {
   "display_name": "Python 3",
   "language": "python",
   "name": "python3"
  },
  "language_info": {
   "codemirror_mode": {
    "name": "ipython",
    "version": 2
   },
   "file_extension": ".py",
   "mimetype": "text/x-python",
   "name": "python",
   "nbconvert_exporter": "python",
   "pygments_lexer": "ipython2",
   "version": "2.7.6"
  }
 },
 "nbformat": 4,
 "nbformat_minor": 5
}
