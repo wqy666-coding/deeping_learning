{
 "cells": [
  {
   "cell_type": "raw",
   "source": [],
   "metadata": {
    "collapsed": false
   },
   "id": "72c9dbfe81be072b"
  },
  {
   "cell_type": "code",
   "execution_count": 1,
   "id": "initial_id",
   "metadata": {
    "collapsed": true,
    "ExecuteTime": {
     "end_time": "2024-03-31T03:26:13.062509900Z",
     "start_time": "2024-03-31T03:26:12.402541Z"
    }
   },
   "outputs": [],
   "source": [
    "from torch.utils.tensorboard import SummaryWriter"
   ]
  },
  {
   "cell_type": "code",
   "execution_count": 2,
   "outputs": [],
   "source": [
    "# 在tensorboard画图\n",
    "writer = SummaryWriter('logs')\n",
    "for i in range(100):\n",
    "    writer.add_scalar(\"y=3x\",3*i,i)\n",
    "writer.close()"
   ],
   "metadata": {
    "collapsed": false,
    "ExecuteTime": {
     "end_time": "2024-03-31T03:26:13.096538100Z",
     "start_time": "2024-03-31T03:26:13.064504Z"
    }
   },
   "id": "5d7e4d9f045fb438"
  },
  {
   "cell_type": "code",
   "execution_count": 3,
   "outputs": [
    {
     "name": "stdout",
     "output_type": "stream",
     "text": [
      "<class 'PIL.JpegImagePlugin.JpegImageFile'>\n",
      "(512, 768, 3)\n"
     ]
    }
   ],
   "source": [
    "from PIL import Image\n",
    "from 获取图片数据 import MyData\n",
    "root_path = '../lianxi_data/train/'\n",
    "label  = 'ants_image'\n",
    "ants_data = MyData(root_path,label)\n",
    "img_path,img_cv, label = ants_data.__getitem__(0)\n",
    "img = Image.open(img_path)\n",
    "print(type(img))\n",
    "print(img_cv.shape)"
   ],
   "metadata": {
    "collapsed": false,
    "ExecuteTime": {
     "end_time": "2024-03-31T03:26:13.173979100Z",
     "start_time": "2024-03-31T03:26:13.095520400Z"
    }
   },
   "id": "d1d9bf7d32331c79"
  },
  {
   "cell_type": "code",
   "execution_count": 4,
   "outputs": [
    {
     "name": "stdout",
     "output_type": "stream",
     "text": [
      "(512, 768, 3)\n"
     ]
    }
   ],
   "source": [
    "# 将图像类型转化为numpy.ndarray\n",
    "import numpy as np\n",
    "img_array = np.array(img)\n",
    "type(img_array)\n",
    "print(img_array.shape)"
   ],
   "metadata": {
    "collapsed": false,
    "ExecuteTime": {
     "end_time": "2024-03-31T03:26:13.218859300Z",
     "start_time": "2024-03-31T03:26:13.175974100Z"
    }
   },
   "id": "e7e316139b1c025a"
  },
  {
   "cell_type": "code",
   "execution_count": 5,
   "outputs": [],
   "source": [
    "# 在tensorboard绘制图像\n",
    "writer.add_image('test',img_array,1,dataformats='HWC')\n",
    "writer.close()  "
   ],
   "metadata": {
    "collapsed": false,
    "ExecuteTime": {
     "end_time": "2024-03-31T03:26:13.360474100Z",
     "start_time": "2024-03-31T03:26:13.190934900Z"
    }
   },
   "id": "bc67f6ca4fe1bbcd"
  },
  {
   "cell_type": "code",
   "execution_count": 23,
   "outputs": [],
   "source": [
    "# 再看个蜜蜂\n",
    "import cv2 as cv\n",
    "root_path = '../lianxi_data/train/'\n",
    "label1  = 'bees_image'\n",
    "bees_data = MyData(root_path,label1)\n",
    "img_path_b,img_cv_b, label_b = bees_data.__getitem__(5)\n",
    "# bees_data.show(0)\n",
    "img_b = Image.open(img_path_b)\n",
    "img = np.array(img_b)\n",
    "\n",
    "writer.add_image('test',img,4,dataformats='HWC')\n",
    "writer.close()  "
   ],
   "metadata": {
    "collapsed": false,
    "ExecuteTime": {
     "end_time": "2024-03-31T03:40:11.489016200Z",
     "start_time": "2024-03-31T03:40:09.693773200Z"
    }
   },
   "id": "99711740463d6dbd"
  },
  {
   "cell_type": "code",
   "execution_count": 14,
   "outputs": [
    {
     "name": "stdout",
     "output_type": "stream",
     "text": [
      "(512, 768, 3)\n"
     ]
    }
   ],
   "source": [
    "print(img.shape)"
   ],
   "metadata": {
    "collapsed": false,
    "ExecuteTime": {
     "end_time": "2024-03-31T03:31:04.908823500Z",
     "start_time": "2024-03-31T03:31:04.897852500Z"
    }
   },
   "id": "9f81ba571848d488"
  }
 ],
 "metadata": {
  "kernelspec": {
   "display_name": "Python 3",
   "language": "python",
   "name": "python3"
  },
  "language_info": {
   "codemirror_mode": {
    "name": "ipython",
    "version": 2
   },
   "file_extension": ".py",
   "mimetype": "text/x-python",
   "name": "python",
   "nbconvert_exporter": "python",
   "pygments_lexer": "ipython2",
   "version": "2.7.6"
  }
 },
 "nbformat": 4,
 "nbformat_minor": 5
}
