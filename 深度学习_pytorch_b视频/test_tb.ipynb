{
 "cells": [
  {
   "cell_type": "raw",
   "source": [],
   "metadata": {
    "collapsed": false
   },
   "id": "72c9dbfe81be072b"
  },
  {
   "cell_type": "code",
   "execution_count": 24,
   "id": "initial_id",
   "metadata": {
    "collapsed": true,
    "ExecuteTime": {
     "end_time": "2024-03-31T04:02:00.138497300Z",
     "start_time": "2024-03-31T04:02:00.128526300Z"
    }
   },
   "outputs": [],
   "source": [
    "from torch.utils.tensorboard import SummaryWriter"
   ]
  },
  {
   "cell_type": "code",
   "execution_count": 25,
   "outputs": [],
   "source": [
    "# 在tensorboard画图\n",
    "writer = SummaryWriter('logs')\n",
    "for i in range(100):\n",
    "    writer.add_scalar(\"y=3x\",3*i,i)\n",
    "writer.close()"
   ],
   "metadata": {
    "collapsed": false,
    "ExecuteTime": {
     "end_time": "2024-03-31T04:02:00.163431100Z",
     "start_time": "2024-03-31T04:02:00.134510100Z"
    }
   },
   "id": "5d7e4d9f045fb438"
  },
  {
   "cell_type": "code",
   "execution_count": 40,
   "outputs": [
    {
     "name": "stdout",
     "output_type": "stream",
     "text": [
      "<class 'PIL.JpegImagePlugin.JpegImageFile'>\n",
      "(375, 500, 3)\n"
     ]
    }
   ],
   "source": [
    "from PIL import Image\n",
    "from 获取图片数据 import MyData\n",
    "root_path = '../lianxi_data/train/'\n",
    "label  = 'ants_image'\n",
    "ants_data = MyData(root_path,label)\n",
    "img_path,img_cv, label = ants_data.__getitem__(9)\n",
    "img = Image.open(img_path)\n",
    "img.show(\"img\")\n",
    "print(type(img))\n",
    "print(img_cv.shape)"
   ],
   "metadata": {
    "collapsed": false,
    "ExecuteTime": {
     "end_time": "2024-03-31T06:17:29.781678700Z",
     "start_time": "2024-03-31T06:16:53.335675Z"
    }
   },
   "id": "d1d9bf7d32331c79"
  },
  {
   "cell_type": "code",
   "execution_count": 41,
   "outputs": [
    {
     "name": "stdout",
     "output_type": "stream",
     "text": [
      "(375, 500, 3)\n"
     ]
    }
   ],
   "source": [
    "# 将图像类型转化为numpy.ndarray\n",
    "import numpy as np\n",
    "img_array = np.array(img)\n",
    "type(img_array)\n",
    "print(img_array.shape)"
   ],
   "metadata": {
    "collapsed": false,
    "ExecuteTime": {
     "end_time": "2024-03-31T06:17:29.826585800Z",
     "start_time": "2024-03-31T06:17:29.783759Z"
    }
   },
   "id": "e7e316139b1c025a"
  },
  {
   "cell_type": "code",
   "execution_count": 42,
   "outputs": [],
   "source": [
    "# 在tensorboard绘制图像\n",
    "writer.add_image('test9',img_array,5,dataformats='HWC')\n",
    "writer.close()  "
   ],
   "metadata": {
    "collapsed": false,
    "ExecuteTime": {
     "end_time": "2024-03-31T06:17:33.328935200Z",
     "start_time": "2024-03-31T06:17:33.178601500Z"
    }
   },
   "id": "bc67f6ca4fe1bbcd"
  },
  {
   "cell_type": "code",
   "execution_count": 36,
   "outputs": [],
   "source": [
    "# 再看个蜜蜂(颜色有问题)\n",
    "import cv2 as cv\n",
    "root_path = '../lianxi_data/train/'\n",
    "label1  = 'bees_image'\n",
    "bees_data = MyData(root_path,label1)\n",
    "img_path_b,img_cv_b, label_b = bees_data.__getitem__(6)\n",
    "bees_data.show(6)\n",
    "img_b = Image.open(img_path_b)\n",
    "img = np.array(img_b)\n",
    "\n",
    "writer.add_image('test4',img_cv_b,5,dataformats='HWC')\n",
    "writer.close()  "
   ],
   "metadata": {
    "collapsed": false,
    "ExecuteTime": {
     "end_time": "2024-03-31T06:12:43.470569100Z",
     "start_time": "2024-03-31T06:12:27.301889700Z"
    }
   },
   "id": "99711740463d6dbd"
  },
  {
   "cell_type": "code",
   "execution_count": 31,
   "outputs": [
    {
     "name": "stdout",
     "output_type": "stream",
     "text": [
      "(365, 500, 3)\n"
     ]
    }
   ],
   "source": [
    "print(img.shape)"
   ],
   "metadata": {
    "collapsed": false,
    "ExecuteTime": {
     "end_time": "2024-03-31T04:10:58.565461800Z",
     "start_time": "2024-03-31T04:10:58.550502Z"
    }
   },
   "id": "9f81ba571848d488"
  },
  {
   "cell_type": "code",
   "execution_count": 32,
   "outputs": [
    {
     "ename": "error",
     "evalue": "OpenCV(4.9.0) D:\\a\\opencv-python\\opencv-python\\opencv\\modules\\highgui\\src\\window.cpp:971: error: (-215:Assertion failed) size.width>0 && size.height>0 in function 'cv::imshow'\n",
     "output_type": "error",
     "traceback": [
      "\u001B[1;31m---------------------------------------------------------------------------\u001B[0m",
      "\u001B[1;31merror\u001B[0m                                     Traceback (most recent call last)",
      "Cell \u001B[1;32mIn[32], line 2\u001B[0m\n\u001B[0;32m      1\u001B[0m img \u001B[38;5;241m=\u001B[39m cv\u001B[38;5;241m.\u001B[39mimread(\u001B[38;5;124m\"\u001B[39m\u001B[38;5;124mD:\u001B[39m\u001B[38;5;130;01m\\\\\u001B[39;00m\u001B[38;5;124mlearn\u001B[39m\u001B[38;5;130;01m\\\\\u001B[39;00m\u001B[38;5;124m学习资料\u001B[39m\u001B[38;5;130;01m\\\\\u001B[39;00m\u001B[38;5;124m深度学习\u001B[39m\u001B[38;5;130;01m\\\\\u001B[39;00m\u001B[38;5;124mlianxi_data\u001B[39m\u001B[38;5;130;01m\\\\\u001B[39;00m\u001B[38;5;124mtrain\u001B[39m\u001B[38;5;130;01m\\\\\u001B[39;00m\u001B[38;5;124mbees_image\u001B[39m\u001B[38;5;130;01m\\\\\u001B[39;00m\u001B[38;5;124m16838648_415acd9e3f.jpg\u001B[39m\u001B[38;5;124m\"\u001B[39m)\n\u001B[1;32m----> 2\u001B[0m \u001B[43mcv\u001B[49m\u001B[38;5;241;43m.\u001B[39;49m\u001B[43mimshow\u001B[49m\u001B[43m(\u001B[49m\u001B[38;5;124;43m\"\u001B[39;49m\u001B[38;5;124;43msada\u001B[39;49m\u001B[38;5;124;43m\"\u001B[39;49m\u001B[43m,\u001B[49m\u001B[43mimg\u001B[49m\u001B[43m)\u001B[49m\n\u001B[0;32m      3\u001B[0m cv\u001B[38;5;241m.\u001B[39mwaitKey(\u001B[38;5;241m0\u001B[39m)\n\u001B[0;32m      4\u001B[0m cv\u001B[38;5;241m.\u001B[39mdestroyAllWindows()\n",
      "\u001B[1;31merror\u001B[0m: OpenCV(4.9.0) D:\\a\\opencv-python\\opencv-python\\opencv\\modules\\highgui\\src\\window.cpp:971: error: (-215:Assertion failed) size.width>0 && size.height>0 in function 'cv::imshow'\n"
     ]
    }
   ],
   "source": [],
   "metadata": {
    "collapsed": false,
    "ExecuteTime": {
     "end_time": "2024-03-31T04:11:01.611492700Z",
     "start_time": "2024-03-31T04:11:01.576587400Z"
    }
   },
   "id": "bb27ffa401ca74b9"
  }
 ],
 "metadata": {
  "kernelspec": {
   "display_name": "Python 3",
   "language": "python",
   "name": "python3"
  },
  "language_info": {
   "codemirror_mode": {
    "name": "ipython",
    "version": 2
   },
   "file_extension": ".py",
   "mimetype": "text/x-python",
   "name": "python",
   "nbconvert_exporter": "python",
   "pygments_lexer": "ipython2",
   "version": "2.7.6"
  }
 },
 "nbformat": 4,
 "nbformat_minor": 5
}
