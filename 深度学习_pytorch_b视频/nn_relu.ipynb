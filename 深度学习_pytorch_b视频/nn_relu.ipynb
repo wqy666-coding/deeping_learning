{
 "cells": [
  {
   "cell_type": "code",
   "execution_count": 6,
   "id": "initial_id",
   "metadata": {
    "collapsed": true,
    "ExecuteTime": {
     "end_time": "2024-04-01T01:36:42.138410200Z",
     "start_time": "2024-04-01T01:36:42.124449600Z"
    }
   },
   "outputs": [],
   "source": [
    "import torch\n",
    "from torch import nn"
   ]
  },
  {
   "cell_type": "code",
   "execution_count": 4,
   "outputs": [
    {
     "name": "stdout",
     "output_type": "stream",
     "text": [
      "torch.Size([1, 1, 2, 2])\n"
     ]
    }
   ],
   "source": [
    "input = torch.tensor([\n",
    "    [1,-0.5],\n",
    "    [-1,3]\n",
    "])\n",
    "input = torch.reshape(input,(-1,1,2,2))\n",
    "print(input.shape)"
   ],
   "metadata": {
    "collapsed": false,
    "ExecuteTime": {
     "end_time": "2024-04-01T01:33:13.287418100Z",
     "start_time": "2024-04-01T01:33:13.276398500Z"
    }
   },
   "id": "768b046780ef12f5"
  },
  {
   "cell_type": "code",
   "execution_count": 7,
   "outputs": [],
   "source": [
    "class Tudui(nn.Module):\n",
    "    def __init__(self):\n",
    "        super(Tudui,self).__init__()\n",
    "        self.relu = nn.ReLU()\n",
    "    def forward(self,input):\n",
    "        output = self.relu(input)\n",
    "        return output"
   ],
   "metadata": {
    "collapsed": false,
    "ExecuteTime": {
     "end_time": "2024-04-01T01:36:45.167032100Z",
     "start_time": "2024-04-01T01:36:45.142447900Z"
    }
   },
   "id": "fac27d16396d29f2"
  },
  {
   "cell_type": "code",
   "execution_count": 10,
   "outputs": [
    {
     "name": "stdout",
     "output_type": "stream",
     "text": [
      "tensor([[[[1., 0.],\n",
      "          [0., 3.]]]])\n",
      "torch.Size([1, 1, 2, 2])\n"
     ]
    }
   ],
   "source": [
    "tudui = Tudui()\n",
    "output = tudui(input)\n",
    "print(output)\n",
    "print(output.shape)"
   ],
   "metadata": {
    "collapsed": false,
    "ExecuteTime": {
     "end_time": "2024-04-01T01:37:43.992896100Z",
     "start_time": "2024-04-01T01:37:43.968963800Z"
    }
   },
   "id": "3384489b6b2a43ab"
  },
  {
   "cell_type": "code",
   "execution_count": null,
   "outputs": [],
   "source": [],
   "metadata": {
    "collapsed": false
   },
   "id": "a7982eeec16a3b3a"
  }
 ],
 "metadata": {
  "kernelspec": {
   "display_name": "Python 3",
   "language": "python",
   "name": "python3"
  },
  "language_info": {
   "codemirror_mode": {
    "name": "ipython",
    "version": 2
   },
   "file_extension": ".py",
   "mimetype": "text/x-python",
   "name": "python",
   "nbconvert_exporter": "python",
   "pygments_lexer": "ipython2",
   "version": "2.7.6"
  }
 },
 "nbformat": 4,
 "nbformat_minor": 5
}
