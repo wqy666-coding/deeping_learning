{
 "cells": [
  {
   "cell_type": "code",
   "execution_count": 1,
   "id": "initial_id",
   "metadata": {
    "collapsed": true,
    "ExecuteTime": {
     "end_time": "2024-04-01T01:55:35.425477500Z",
     "start_time": "2024-04-01T01:55:33.558001600Z"
    }
   },
   "outputs": [],
   "source": [
    "import torch\n",
    "from torch import nn\n",
    "from torch.utils.data import DataLoader\n",
    "import torchvision\n",
    "from torch.utils.tensorboard import SummaryWriter"
   ]
  },
  {
   "cell_type": "code",
   "execution_count": 2,
   "outputs": [],
   "source": [
    "dataset = torchvision.datasets.CIFAR10(\"./dataset\",train=False,transform=torchvision.transforms.ToTensor())\n",
    "dataloader = DataLoader(dataset,batch_size=64)"
   ],
   "metadata": {
    "collapsed": false,
    "ExecuteTime": {
     "end_time": "2024-04-01T01:55:36.117134Z",
     "start_time": "2024-04-01T01:55:35.432455300Z"
    }
   },
   "id": "fb1312a19463953b"
  },
  {
   "cell_type": "code",
   "execution_count": 13,
   "outputs": [],
   "source": [
    "class Tudui(nn.Module):\n",
    "    def __init__(self):\n",
    "        super(Tudui,self).__init__()\n",
    "        self.relu = nn.ReLU()\n",
    "\n",
    "    def forward(self,input):\n",
    "        output = torch.sigmoid(input)\n",
    "        return output"
   ],
   "metadata": {
    "collapsed": false,
    "ExecuteTime": {
     "end_time": "2024-04-01T01:59:12.945581700Z",
     "start_time": "2024-04-01T01:59:12.924471Z"
    }
   },
   "id": "cfa28fd4b4a6355d"
  },
  {
   "cell_type": "code",
   "execution_count": 14,
   "outputs": [],
   "source": [
    "tutui = Tudui()\n",
    "writer = SummaryWriter(\"nn_relu\")\n",
    "step = 0\n",
    "for data in dataloader:\n",
    "    imgs,targets = data\n",
    "    outputs = tutui(imgs)\n",
    "    writer.add_images('input',imgs,step)\n",
    "    writer.add_images('output',outputs,step)\n",
    "    step+=1\n",
    "writer.close()\n",
    "    "
   ],
   "metadata": {
    "collapsed": false,
    "ExecuteTime": {
     "end_time": "2024-04-01T01:59:47.007478Z",
     "start_time": "2024-04-01T01:59:13.775087700Z"
    }
   },
   "id": "5d5d15321ed2595e"
  },
  {
   "cell_type": "code",
   "execution_count": null,
   "outputs": [],
   "source": [],
   "metadata": {
    "collapsed": false,
    "ExecuteTime": {
     "start_time": "2024-04-01T01:55:41.063534600Z"
    }
   },
   "id": "8de819e6c1a4604a"
  }
 ],
 "metadata": {
  "kernelspec": {
   "display_name": "Python 3",
   "language": "python",
   "name": "python3"
  },
  "language_info": {
   "codemirror_mode": {
    "name": "ipython",
    "version": 2
   },
   "file_extension": ".py",
   "mimetype": "text/x-python",
   "name": "python",
   "nbconvert_exporter": "python",
   "pygments_lexer": "ipython2",
   "version": "2.7.6"
  }
 },
 "nbformat": 4,
 "nbformat_minor": 5
}
