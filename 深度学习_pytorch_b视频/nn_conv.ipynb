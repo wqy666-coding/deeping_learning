{
 "cells": [
  {
   "cell_type": "code",
   "execution_count": 1,
   "id": "initial_id",
   "metadata": {
    "collapsed": true,
    "ExecuteTime": {
     "end_time": "2024-03-31T13:27:55.770485500Z",
     "start_time": "2024-03-31T13:27:54.755884900Z"
    }
   },
   "outputs": [],
   "source": [
    "import torch"
   ]
  },
  {
   "cell_type": "code",
   "execution_count": 4,
   "outputs": [
    {
     "name": "stdout",
     "output_type": "stream",
     "text": [
      "tensor([[1, 2, 0, 3, 1],\n",
      "        [0, 1, 2, 3, 1],\n",
      "        [1, 2, 1, 0, 0],\n",
      "        [5, 2, 3, 1, 1],\n",
      "        [2, 1, 0, 1, 1]])\n",
      "torch.Size([5, 5])\n"
     ]
    }
   ],
   "source": [
    "input = torch.tensor([\n",
    "    [1,2,0,3,1],\n",
    "    [0,1,2,3,1],\n",
    "    [1,2,1,0,0],\n",
    "    [5,2,3,1,1],\n",
    "    [2,1,0,1,1]\n",
    "])\n",
    "print(input)\n",
    "print(input.shape)"
   ],
   "metadata": {
    "collapsed": false,
    "ExecuteTime": {
     "end_time": "2024-03-31T13:32:14.675002500Z",
     "start_time": "2024-03-31T13:32:14.647075900Z"
    }
   },
   "id": "3001e1608a81bac"
  },
  {
   "cell_type": "code",
   "execution_count": 5,
   "outputs": [
    {
     "name": "stdout",
     "output_type": "stream",
     "text": [
      "tensor([[1, 2, 1],\n",
      "        [0, 1, 0],\n",
      "        [2, 1, 0]])\n",
      "torch.Size([3, 3])\n"
     ]
    }
   ],
   "source": [
    "kernel = torch.tensor([\n",
    "    [1,2,1],\n",
    "    [0,1,0],\n",
    "    [2,1,0]\n",
    "])\n",
    "print(kernel)\n",
    "print(kernel.shape)"
   ],
   "metadata": {
    "collapsed": false,
    "ExecuteTime": {
     "end_time": "2024-03-31T13:32:15.121757200Z",
     "start_time": "2024-03-31T13:32:15.100806400Z"
    }
   },
   "id": "846896ebd1e5c189"
  },
  {
   "cell_type": "code",
   "execution_count": 6,
   "outputs": [
    {
     "name": "stdout",
     "output_type": "stream",
     "text": [
      "torch.Size([1, 1, 5, 5])\n",
      "torch.Size([1, 1, 3, 3])\n"
     ]
    }
   ],
   "source": [
    "# 改变形状\n",
    "input = torch.reshape(input,(1,1,5,5))\n",
    "kernel = torch.reshape(kernel,(1,1,3,3))\n",
    "print(input.shape)\n",
    "print(kernel.shape)"
   ],
   "metadata": {
    "collapsed": false,
    "ExecuteTime": {
     "end_time": "2024-03-31T13:37:08.173231200Z",
     "start_time": "2024-03-31T13:37:08.116383600Z"
    }
   },
   "id": "91db1f2e3ae18541"
  },
  {
   "cell_type": "code",
   "execution_count": 10,
   "outputs": [
    {
     "name": "stdout",
     "output_type": "stream",
     "text": [
      "tensor([[[[10, 12, 12],\n",
      "          [18, 16, 16],\n",
      "          [13,  9,  3]]]])\n",
      "torch.Size([1, 1, 3, 3])\n",
      "tensor([[[[ 1,  3,  4, 10,  8],\n",
      "          [ 5, 10, 12, 12,  6],\n",
      "          [ 7, 18, 16, 16,  8],\n",
      "          [11, 13,  9,  3,  4],\n",
      "          [14, 13,  9,  7,  4]]]])\n",
      "torch.Size([1, 1, 5, 5])\n"
     ]
    }
   ],
   "source": [
    "# 卷积\n",
    "import torch.nn.functional as F\n",
    "# 步长为1\n",
    "output = F.conv2d(input,kernel,stride=1)\n",
    "print(output)\n",
    "print(output.shape)\n",
    "# 填充设为1\n",
    "output_1 = F.conv2d(input,kernel,stride=1,padding=1)\n",
    "print(output_1)\n",
    "print(output_1.shape)"
   ],
   "metadata": {
    "collapsed": false,
    "ExecuteTime": {
     "end_time": "2024-03-31T13:43:32.655508500Z",
     "start_time": "2024-03-31T13:43:32.628580700Z"
    }
   },
   "id": "1e70df1c0173d3bb"
  },
  {
   "cell_type": "code",
   "execution_count": 11,
   "outputs": [
    {
     "name": "stdout",
     "output_type": "stream",
     "text": [
      "tensor([[[[10, 12],\n",
      "          [13,  3]]]])\n",
      "torch.Size([1, 1, 2, 2])\n",
      "tensor([[[[ 1,  3,  4, 10,  8],\n",
      "          [ 5, 10, 12, 12,  6],\n",
      "          [ 7, 18, 16, 16,  8],\n",
      "          [11, 13,  9,  3,  4],\n",
      "          [14, 13,  9,  7,  4]]]])\n",
      "torch.Size([1, 1, 5, 5])\n"
     ]
    }
   ],
   "source": [
    "# 步长为2\n",
    "output2 = F.conv2d(input,kernel,stride=2)\n",
    "print(output2)\n",
    "print(output2.shape)\n",
    "# 填充设为1\n",
    "output_2 = F.conv2d(input,kernel,stride=2,padding=1)\n",
    "print(output_1)\n",
    "print(output_1.shape)"
   ],
   "metadata": {
    "collapsed": false,
    "ExecuteTime": {
     "end_time": "2024-04-01T00:25:05.444505Z",
     "start_time": "2024-04-01T00:25:05.418575200Z"
    }
   },
   "id": "6a48e1e3c0f0a1a0"
  },
  {
   "cell_type": "code",
   "execution_count": null,
   "outputs": [],
   "source": [],
   "metadata": {
    "collapsed": false
   },
   "id": "fdcbc5d45c4ceea6"
  }
 ],
 "metadata": {
  "kernelspec": {
   "display_name": "Python 3",
   "language": "python",
   "name": "python3"
  },
  "language_info": {
   "codemirror_mode": {
    "name": "ipython",
    "version": 2
   },
   "file_extension": ".py",
   "mimetype": "text/x-python",
   "name": "python",
   "nbconvert_exporter": "python",
   "pygments_lexer": "ipython2",
   "version": "2.7.6"
  }
 },
 "nbformat": 4,
 "nbformat_minor": 5
}
