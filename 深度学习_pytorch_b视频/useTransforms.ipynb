{
 "cells": [
  {
   "cell_type": "code",
   "execution_count": 22,
   "id": "initial_id",
   "metadata": {
    "collapsed": true,
    "ExecuteTime": {
     "end_time": "2024-03-31T08:31:07.696134Z",
     "start_time": "2024-03-31T08:31:07.682169100Z"
    }
   },
   "outputs": [],
   "source": [
    "from PIL import Image\n",
    "from torchvision import transforms\n",
    "from torch.utils.tensorboard import SummaryWriter"
   ]
  },
  {
   "cell_type": "code",
   "execution_count": 2,
   "outputs": [],
   "source": [
    "img = Image.open(\"../lianxi_data/train/bees_image/16838648_415acd9e3f.jpg\")\n",
    "img.show(\"img\")"
   ],
   "metadata": {
    "collapsed": false,
    "ExecuteTime": {
     "end_time": "2024-03-31T07:21:30.766629600Z",
     "start_time": "2024-03-31T07:21:25.659441500Z"
    }
   },
   "id": "9b171902d81500e"
  },
  {
   "cell_type": "code",
   "execution_count": 3,
   "outputs": [],
   "source": [
    "# 转化为tensor类型\n",
    "trans_totensor = transforms.ToTensor()\n",
    "img_tensor = trans_totensor(img)\n",
    "\n",
    "writer = SummaryWriter('logs')\n",
    "writer.add_image('ToTensor1',img_tensor)\n"
   ],
   "metadata": {
    "collapsed": false,
    "ExecuteTime": {
     "end_time": "2024-03-31T07:21:30.999368400Z",
     "start_time": "2024-03-31T07:21:30.767626900Z"
    }
   },
   "id": "7a1bd2e7990c5eb1"
  },
  {
   "cell_type": "code",
   "execution_count": 4,
   "outputs": [],
   "source": [
    " # 归一化处理\n",
    "trans_norm = transforms.Normalize([0.5,0.5,0.5],[0.5,0.5,0.5])\n",
    "img_norm = trans_norm(img_tensor)\n",
    "writer.add_image('ToTensor4',img_norm)\n"
   ],
   "metadata": {
    "collapsed": false,
    "ExecuteTime": {
     "end_time": "2024-03-31T07:21:31.213871900Z",
     "start_time": "2024-03-31T07:21:31.000366400Z"
    }
   },
   "id": "8cd5032d13e54e93"
  },
  {
   "cell_type": "code",
   "execution_count": 5,
   "outputs": [],
   "source": [
    "writer.close()"
   ],
   "metadata": {
    "collapsed": false,
    "ExecuteTime": {
     "end_time": "2024-03-31T07:21:31.221850400Z",
     "start_time": "2024-03-31T07:21:31.216864400Z"
    }
   },
   "id": "9384cb145a87a41d"
  },
  {
   "cell_type": "code",
   "execution_count": 10,
   "outputs": [
    {
     "name": "stdout",
     "output_type": "stream",
     "text": [
      "(500, 450)\n",
      "<PIL.Image.Image image mode=RGB size=1024x1024 at 0x1E128DCC760>\n"
     ]
    }
   ],
   "source": [
    "print(img.size)\n",
    "# 修改尺寸\n",
    "# 方法一\n",
    "trans_resize = transforms.Resize((1024,1024))\n",
    "img_resize = trans_resize(img)\n",
    "print(img_resize)"
   ],
   "metadata": {
    "collapsed": false,
    "ExecuteTime": {
     "end_time": "2024-03-31T07:23:36.139369300Z",
     "start_time": "2024-03-31T07:23:36.104852Z"
    }
   },
   "id": "bb6869c6249d2e9b"
  },
  {
   "cell_type": "code",
   "execution_count": 11,
   "outputs": [],
   "source": [
    "# 转化成tensor类型\n",
    "img_resize = trans_totensor(img_resize)"
   ],
   "metadata": {
    "collapsed": false,
    "ExecuteTime": {
     "end_time": "2024-03-31T07:23:39.758265600Z",
     "start_time": "2024-03-31T07:23:39.736324700Z"
    }
   },
   "id": "36202bb14546001f"
  },
  {
   "cell_type": "markdown",
   "source": [],
   "metadata": {
    "collapsed": false
   },
   "id": "cc9ebd783da3907c"
  },
  {
   "cell_type": "code",
   "execution_count": 12,
   "outputs": [
    {
     "data": {
      "text/plain": "torch.Size([3, 1024, 1024])"
     },
     "execution_count": 12,
     "metadata": {},
     "output_type": "execute_result"
    }
   ],
   "source": [
    "img_resize.shape\n"
   ],
   "metadata": {
    "collapsed": false,
    "ExecuteTime": {
     "end_time": "2024-03-31T07:23:42.430566600Z",
     "start_time": "2024-03-31T07:23:42.410620100Z"
    }
   },
   "id": "24345d0b156fdae4"
  },
  {
   "cell_type": "code",
   "execution_count": 15,
   "outputs": [],
   "source": [
    "writer.add_image(\"resizeImage\",img_resize)\n",
    "writer.close()"
   ],
   "metadata": {
    "collapsed": false,
    "ExecuteTime": {
     "end_time": "2024-03-31T07:24:27.037816900Z",
     "start_time": "2024-03-31T07:24:26.114935600Z"
    }
   },
   "id": "7c51960623306955"
  },
  {
   "cell_type": "code",
   "execution_count": 16,
   "outputs": [],
   "source": [
    "# 方法二\n",
    "trans_resize2 = transforms.Resize(512)\n",
    "trans_compose = transforms.Compose([trans_resize2,trans_totensor])\n",
    "img_resize2 = trans_compose(img)\n",
    "writer.add_image(\"resizeImage2\",img_resize2)\n",
    "writer.close()"
   ],
   "metadata": {
    "collapsed": false,
    "ExecuteTime": {
     "end_time": "2024-03-31T07:29:10.987562300Z",
     "start_time": "2024-03-31T07:29:10.702324800Z"
    }
   },
   "id": "2ab920cc74d68a63"
  },
  {
   "cell_type": "code",
   "execution_count": 20,
   "outputs": [],
   "source": [
    "# 随机裁剪\n",
    "trans_random = transforms.RandomCrop((100,200))\n",
    "trans_compose_2 = transforms.Compose([trans_random,trans_totensor])\n",
    "for i in range(10):\n",
    "    img_crop = trans_compose_2(img)\n",
    "    writer.add_image(\"RandomCrophw\",img_crop,i)\n",
    "writer.close()"
   ],
   "metadata": {
    "collapsed": false,
    "ExecuteTime": {
     "end_time": "2024-03-31T08:12:56.455117600Z",
     "start_time": "2024-03-31T08:12:56.267073600Z"
    }
   },
   "id": "bf0e932bb2b1ad7f"
  }
 ],
 "metadata": {
  "kernelspec": {
   "display_name": "Python 3",
   "language": "python",
   "name": "python3"
  },
  "language_info": {
   "codemirror_mode": {
    "name": "ipython",
    "version": 2
   },
   "file_extension": ".py",
   "mimetype": "text/x-python",
   "name": "python",
   "nbconvert_exporter": "python",
   "pygments_lexer": "ipython2",
   "version": "2.7.6"
  }
 },
 "nbformat": 4,
 "nbformat_minor": 5
}
