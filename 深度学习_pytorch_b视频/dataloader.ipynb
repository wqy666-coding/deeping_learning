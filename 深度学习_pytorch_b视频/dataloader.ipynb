{
 "cells": [
  {
   "cell_type": "code",
   "execution_count": 1,
   "id": "initial_id",
   "metadata": {
    "collapsed": true,
    "ExecuteTime": {
     "end_time": "2024-03-31T12:04:21.749748400Z",
     "start_time": "2024-03-31T12:04:20.584738700Z"
    }
   },
   "outputs": [],
   "source": [
    "import torchvision\n",
    "from torch.utils.data import DataLoader\n",
    "from torch.utils.tensorboard import SummaryWriter"
   ]
  },
  {
   "cell_type": "code",
   "execution_count": 12,
   "outputs": [],
   "source": [
    "test_data = torchvision.datasets.CIFAR10(\"./dataset\",train=False,transform=torchvision.transforms.ToTensor())\n",
    "# num_workers=0 采用主进程加载,drop_last=False不舍弃除不尽的牌\n",
    "test_loader = DataLoader(dataset= test_data,batch_size=64,shuffle=False,num_workers=0,drop_last=True)\n"
   ],
   "metadata": {
    "collapsed": false,
    "ExecuteTime": {
     "end_time": "2024-03-31T12:16:43.403984300Z",
     "start_time": "2024-03-31T12:16:43.026976100Z"
    }
   },
   "id": "df36cb03011d7921"
  },
  {
   "cell_type": "code",
   "execution_count": 3,
   "outputs": [
    {
     "name": "stdout",
     "output_type": "stream",
     "text": [
      "torch.Size([3, 32, 32])\n",
      "3\n"
     ]
    }
   ],
   "source": [
    "# 查看数据(测试集的第一张图片)\n",
    "img,target = test_data[0]\n",
    "print(img.shape)\n",
    "print(target)"
   ],
   "metadata": {
    "collapsed": false,
    "ExecuteTime": {
     "end_time": "2024-03-31T12:04:22.159215300Z",
     "start_time": "2024-03-31T12:04:22.141282600Z"
    }
   },
   "id": "2502dc20c9899f6a"
  },
  {
   "cell_type": "code",
   "execution_count": 4,
   "outputs": [
    {
     "name": "stdout",
     "output_type": "stream",
     "text": [
      "torch.Size([64, 3, 32, 32])\n",
      "tensor([4, 0, 0, 1, 1, 5, 3, 2, 5, 2, 1, 8, 2, 3, 3, 3, 2, 5, 6, 6, 4, 7, 5, 6,\n",
      "        5, 5, 6, 1, 1, 3, 5, 4, 5, 1, 7, 6, 8, 4, 8, 9, 8, 0, 5, 6, 0, 6, 4, 0,\n",
      "        0, 9, 1, 3, 9, 4, 1, 9, 5, 0, 4, 7, 4, 0, 6, 0])\n",
      "torch.Size([64, 3, 32, 32])\n",
      "tensor([7, 8, 1, 4, 9, 1, 8, 5, 9, 8, 4, 8, 0, 1, 9, 7, 3, 3, 5, 4, 2, 4, 3, 4,\n",
      "        7, 8, 2, 5, 1, 6, 7, 2, 6, 8, 3, 9, 1, 2, 2, 4, 9, 0, 2, 4, 6, 2, 2, 6,\n",
      "        8, 8, 8, 8, 3, 6, 1, 8, 5, 8, 5, 2, 8, 3, 5, 8])\n",
      "torch.Size([64, 3, 32, 32])\n",
      "tensor([1, 5, 0, 8, 7, 6, 9, 2, 7, 9, 8, 7, 5, 8, 2, 8, 3, 7, 6, 8, 1, 2, 6, 6,\n",
      "        1, 2, 1, 8, 1, 7, 3, 7, 6, 2, 8, 8, 2, 8, 9, 2, 0, 2, 7, 5, 3, 0, 7, 9,\n",
      "        5, 2, 4, 5, 5, 0, 5, 1, 9, 2, 8, 5, 2, 7, 4, 1])\n",
      "torch.Size([64, 3, 32, 32])\n",
      "tensor([7, 8, 4, 1, 1, 5, 7, 8, 5, 5, 6, 6, 5, 1, 2, 1, 9, 7, 4, 2, 2, 3, 0, 7,\n",
      "        2, 5, 3, 2, 5, 2, 8, 0, 4, 7, 1, 0, 9, 4, 7, 3, 0, 1, 0, 9, 5, 6, 6, 1,\n",
      "        1, 6, 3, 6, 6, 8, 2, 4, 5, 9, 0, 4, 8, 3, 9, 8])\n",
      "torch.Size([64, 3, 32, 32])\n",
      "tensor([4, 5, 3, 2, 4, 6, 2, 3, 8, 1, 2, 5, 7, 3, 2, 6, 3, 1, 4, 3, 9, 6, 7, 5,\n",
      "        6, 3, 5, 3, 5, 6, 1, 2, 2, 6, 8, 3, 6, 6, 2, 4, 8, 5, 5, 2, 7, 2, 8, 6,\n",
      "        8, 3, 3, 2, 1, 1, 6, 1, 3, 8, 5, 9, 5, 4, 2, 9])\n"
     ]
    }
   ],
   "source": [
    "# 查看前5组，每组4张图片\n",
    "j = 1\n",
    "for data in test_loader:\n",
    "    if j==6:\n",
    "        break\n",
    "    img1,target1 = data\n",
    "    print(img1.shape)\n",
    "    print(target1)\n",
    "    j+=1"
   ],
   "metadata": {
    "collapsed": false,
    "ExecuteTime": {
     "end_time": "2024-03-31T12:04:22.252964Z",
     "start_time": "2024-03-31T12:04:22.160210800Z"
    }
   },
   "id": "2e1875fd9614b3c4"
  },
  {
   "cell_type": "code",
   "execution_count": 13,
   "outputs": [],
   "source": [
    "# 显示出来 （将batch_size改为64）\n",
    "writer = SummaryWriter(\"dataloader\")\n",
    "step = 0\n",
    "for echo in range(2):\n",
    "    for data in test_loader:\n",
    "        imgs,targets = data\n",
    "        writer.add_images(\"echo_\"+str(echo),imgs,step)\n",
    "        step+=1\n",
    "writer.close()"
   ],
   "metadata": {
    "collapsed": false,
    "ExecuteTime": {
     "end_time": "2024-03-31T12:17:14.160297400Z",
     "start_time": "2024-03-31T12:16:57.863203700Z"
    }
   },
   "id": "ebb614fd6ce8bfaa"
  },
  {
   "cell_type": "code",
   "execution_count": null,
   "outputs": [],
   "source": [],
   "metadata": {
    "collapsed": false
   },
   "id": "35aea3f90c5e5a85"
  }
 ],
 "metadata": {
  "kernelspec": {
   "display_name": "Python 3",
   "language": "python",
   "name": "python3"
  },
  "language_info": {
   "codemirror_mode": {
    "name": "ipython",
    "version": 2
   },
   "file_extension": ".py",
   "mimetype": "text/x-python",
   "name": "python",
   "nbconvert_exporter": "python",
   "pygments_lexer": "ipython2",
   "version": "2.7.6"
  }
 },
 "nbformat": 4,
 "nbformat_minor": 5
}
