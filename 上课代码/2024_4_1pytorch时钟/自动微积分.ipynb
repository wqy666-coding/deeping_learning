{
 "cells": [
  {
   "cell_type": "code",
   "execution_count": 17,
   "id": "initial_id",
   "metadata": {
    "collapsed": true,
    "ExecuteTime": {
     "end_time": "2024-04-01T07:34:01.143389600Z",
     "start_time": "2024-04-01T07:34:01.117435100Z"
    }
   },
   "outputs": [],
   "source": [
    "import numpy as np\n",
    "import torch\n",
    "from torchvision.models import resnet18"
   ]
  },
  {
   "cell_type": "code",
   "execution_count": 5,
   "outputs": [
    {
     "name": "stdout",
     "output_type": "stream",
     "text": [
      "torch.Size([1, 3, 64, 64])\n",
      "torch.Size([1, 1000])\n",
      "tensor([[0.4033, 0.1302, 0.6163, 0.1651, 0.1236, 0.0067, 0.3133, 0.9204, 0.4291,\n",
      "         0.0273, 0.8699, 0.6038, 0.4503, 0.9561, 0.6102, 0.4055, 0.8655, 0.6527,\n",
      "         0.0053, 0.4517, 0.6347, 0.8982, 0.8719, 0.8228, 0.2140, 0.4445, 0.9370,\n",
      "         0.0097, 0.4603, 0.3578, 0.9882, 0.3427, 0.1251, 0.5239, 0.0388, 0.7209,\n",
      "         0.6319, 0.3429, 0.5054, 0.4668, 0.3568, 0.6809, 0.3791, 0.3561, 0.8866,\n",
      "         0.7347, 0.2336, 0.0361, 0.0167, 0.1799, 0.7942, 0.7663, 0.4953, 0.1165,\n",
      "         0.7693, 0.4893, 0.8975, 0.2838, 0.5148, 0.0777, 0.6561, 0.8863, 0.9875,\n",
      "         0.8184, 0.2499, 0.7121, 0.6342, 0.6618, 0.6827, 0.1373, 0.4915, 0.2906,\n",
      "         0.6098, 0.3158, 0.1336, 0.8259, 0.5011, 0.9762, 0.4076, 0.9510, 0.6544,\n",
      "         0.6815, 0.5454, 0.8686, 0.7195, 0.8573, 0.6319, 0.0264, 0.7677, 0.6759,\n",
      "         0.7162, 0.9030, 0.4514, 0.9110, 0.7985, 0.1291, 0.6524, 0.5839, 0.7039,\n",
      "         0.2060, 0.2840, 0.2732, 0.4641, 0.8788, 0.0476, 0.9497, 0.9688, 0.8070,\n",
      "         0.9315, 0.4574, 0.0162, 0.7753, 0.4601, 0.9495, 0.0751, 0.0208, 0.5934,\n",
      "         0.0356, 0.8597, 0.6188, 0.7598, 0.1487, 0.9455, 0.8058, 0.3950, 0.4626,\n",
      "         0.2724, 0.1860, 0.4533, 0.0851, 0.7772, 0.1212, 0.1558, 0.2966, 0.4344,\n",
      "         0.1110, 0.0277, 0.0058, 0.4249, 0.1901, 0.3416, 0.7739, 0.8798, 0.1645,\n",
      "         0.6986, 0.7760, 0.0801, 0.9905, 0.9053, 0.2047, 0.6957, 0.3776, 0.0649,\n",
      "         0.4124, 0.7733, 0.7812, 0.0209, 0.9489, 0.3641, 0.7944, 0.8164, 0.0389,\n",
      "         0.7250, 0.3440, 0.4801, 0.5519, 0.2715, 0.7512, 0.6161, 0.7768, 0.5216,\n",
      "         0.9984, 0.2430, 0.5718, 0.3659, 0.5272, 0.6198, 0.0186, 0.8987, 0.8213,\n",
      "         0.2418, 0.6390, 0.4197, 0.7066, 0.0578, 0.9612, 0.1848, 0.6410, 0.7381,\n",
      "         0.2397, 0.0050, 0.5620, 0.8143, 0.0984, 0.4499, 0.6217, 0.2572, 0.8076,\n",
      "         0.5669, 0.9785, 0.0534, 0.9416, 0.6656, 0.5250, 0.3292, 0.2469, 0.9575,\n",
      "         0.1862, 0.1503, 0.3355, 0.4596, 0.3360, 0.0762, 0.8163, 0.6472, 0.0428,\n",
      "         0.7097, 0.4861, 0.0597, 0.9563, 0.7100, 0.7669, 0.6547, 0.2498, 0.3492,\n",
      "         0.3586, 0.2494, 0.5285, 0.4806, 0.8489, 0.5439, 0.4224, 0.3919, 0.4964,\n",
      "         0.3996, 0.1017, 0.4200, 0.3885, 0.0270, 0.0616, 0.0379, 0.4535, 0.8371,\n",
      "         0.2191, 0.4764, 0.8190, 0.0997, 0.5682, 0.0631, 0.6915, 0.6509, 0.6121,\n",
      "         0.1802, 0.5378, 0.8428, 0.5022, 0.1536, 0.6603, 0.3817, 0.0520, 0.9202,\n",
      "         0.3455, 0.1493, 0.7482, 0.0515, 0.0544, 0.1840, 0.6946, 0.5304, 0.9639,\n",
      "         0.3038, 0.3279, 0.2566, 0.8117, 0.0733, 0.3252, 0.8097, 0.8563, 0.0536,\n",
      "         0.2943, 0.9702, 0.9007, 0.4314, 0.7060, 0.2831, 0.1305, 0.5260, 0.4829,\n",
      "         0.8832, 0.0656, 0.2962, 0.7184, 0.2225, 0.8820, 0.6192, 0.1397, 0.1555,\n",
      "         0.6649, 0.3970, 0.1637, 0.5941, 0.5203, 0.0940, 0.2410, 0.7026, 0.5956,\n",
      "         0.5967, 0.7582, 0.5579, 0.0511, 0.6698, 0.8311, 0.7513, 0.5940, 0.6401,\n",
      "         0.2960, 0.7739, 0.1731, 0.9905, 0.3366, 0.7910, 0.0413, 0.9647, 0.8625,\n",
      "         0.8834, 0.2112, 0.9208, 0.9446, 0.6165, 0.3595, 0.0408, 0.5682, 0.2351,\n",
      "         0.8176, 0.4841, 0.8623, 0.4749, 0.2606, 0.6209, 0.7232, 0.9171, 0.4513,\n",
      "         0.8089, 0.4393, 0.4748, 0.0701, 0.9852, 0.6018, 0.9067, 0.8068, 0.0012,\n",
      "         0.0051, 0.1286, 0.8883, 0.9665, 0.9342, 0.3301, 0.0304, 0.6443, 0.0960,\n",
      "         0.0304, 0.4370, 0.7435, 0.9001, 0.0801, 0.9807, 0.1972, 0.3662, 0.4348,\n",
      "         0.8588, 0.3776, 0.5793, 0.5930, 0.1611, 0.9390, 0.7822, 0.9968, 0.2968,\n",
      "         0.8665, 0.9992, 0.6048, 0.8160, 0.5425, 0.3586, 0.8170, 0.2782, 0.0466,\n",
      "         0.4396, 0.5690, 0.0726, 0.9756, 0.4781, 0.2440, 0.6747, 0.9322, 0.2437,\n",
      "         0.8730, 0.7370, 0.3416, 0.2956, 0.0252, 0.8314, 0.1857, 0.3129, 0.8901,\n",
      "         0.1416, 0.0682, 0.1729, 0.7915, 0.6696, 0.4259, 0.0034, 0.4537, 0.1986,\n",
      "         0.4206, 0.9953, 0.5981, 0.0030, 0.8343, 0.3548, 0.8212, 0.5261, 0.7001,\n",
      "         0.2399, 0.7966, 0.7682, 0.3410, 0.8297, 0.4253, 0.0374, 0.3480, 0.3286,\n",
      "         0.0196, 0.4939, 0.0315, 0.6110, 0.2584, 0.0309, 0.1319, 0.7084, 0.4407,\n",
      "         0.9782, 0.6874, 0.0386, 0.8105, 0.1050, 0.4285, 0.0433, 0.2693, 0.2542,\n",
      "         0.7880, 0.5827, 0.3929, 0.8213, 0.0805, 0.7174, 0.9535, 0.4877, 0.5124,\n",
      "         0.2341, 0.8915, 0.1516, 0.7467, 0.6257, 0.9689, 0.8627, 0.6304, 0.4382,\n",
      "         0.5194, 0.3495, 0.8092, 0.9256, 0.4428, 0.3475, 0.6758, 0.9899, 0.2120,\n",
      "         0.3024, 0.5612, 0.5054, 0.5369, 0.4959, 0.1285, 0.1578, 0.0422, 0.6391,\n",
      "         0.0922, 0.0254, 0.9687, 0.2509, 0.2712, 0.4783, 0.6797, 0.3640, 0.7544,\n",
      "         0.2288, 0.8978, 0.7985, 0.3913, 0.7245, 0.7999, 0.8526, 0.3511, 0.1539,\n",
      "         0.2632, 0.0770, 0.4163, 0.7251, 0.2293, 0.3494, 0.9872, 0.0912, 0.8639,\n",
      "         0.5092, 0.1036, 0.4447, 0.3588, 0.1789, 0.1015, 0.1943, 0.3730, 0.1253,\n",
      "         0.9836, 0.7508, 0.6176, 0.5279, 0.4124, 0.1646, 0.5324, 0.1536, 0.9233,\n",
      "         0.7315, 0.4880, 0.6098, 0.0549, 0.5447, 0.2305, 0.6168, 0.0725, 0.5908,\n",
      "         0.6249, 0.2640, 0.1118, 0.9177, 0.1892, 0.1584, 0.7440, 0.3119, 0.2143,\n",
      "         0.0056, 0.2623, 0.0160, 0.3849, 0.6883, 0.7374, 0.6531, 0.7285, 0.9301,\n",
      "         0.6891, 0.7108, 0.0803, 0.6740, 0.8403, 0.9903, 0.0054, 0.8128, 0.3054,\n",
      "         0.1500, 0.1830, 0.3733, 0.9689, 0.6516, 0.5296, 0.2736, 0.3151, 0.6517,\n",
      "         0.7096, 0.1173, 0.8853, 0.3696, 0.4319, 0.4296, 0.5169, 0.1222, 0.1613,\n",
      "         0.6539, 0.0592, 0.7537, 0.0786, 0.6611, 0.4985, 0.6814, 0.7317, 0.0328,\n",
      "         0.9202, 0.1330, 0.6447, 0.8910, 0.6732, 0.4488, 0.8957, 0.9603, 0.2208,\n",
      "         0.0663, 0.3611, 0.8950, 0.3526, 0.8687, 0.8374, 0.2253, 0.9907, 0.4090,\n",
      "         0.2555, 0.0481, 0.7200, 0.4289, 0.0192, 0.1613, 0.1710, 0.1559, 0.1457,\n",
      "         0.4871, 0.4970, 0.6557, 0.3102, 0.0948, 0.6351, 0.7901, 0.6814, 0.9026,\n",
      "         0.6711, 0.2628, 0.9970, 0.5027, 0.7831, 0.0366, 0.2202, 0.8781, 0.5416,\n",
      "         0.3858, 0.2320, 0.4659, 0.0328, 0.7142, 0.7914, 0.1883, 0.4607, 0.8046,\n",
      "         0.4373, 0.7137, 0.9263, 0.7894, 0.9642, 0.6169, 0.7676, 0.9811, 0.4457,\n",
      "         0.9249, 0.0147, 0.2485, 0.3753, 0.2503, 0.7806, 0.1354, 0.8976, 0.9224,\n",
      "         0.5241, 0.6532, 0.3765, 0.1527, 0.4974, 0.9999, 0.5528, 0.8015, 0.6467,\n",
      "         0.2991, 0.2677, 0.6999, 0.2058, 0.3989, 0.3984, 0.9726, 0.0942, 0.5799,\n",
      "         0.7750, 0.1525, 0.2136, 0.0957, 0.0336, 0.4503, 0.8812, 0.9267, 0.0690,\n",
      "         0.6623, 0.5219, 0.1996, 0.8785, 0.2918, 0.3500, 0.9262, 0.3521, 0.6800,\n",
      "         0.2390, 0.1054, 0.2560, 0.3237, 0.6748, 0.4646, 0.5908, 0.7101, 0.4601,\n",
      "         0.6705, 0.7086, 0.1193, 0.8506, 0.3009, 0.7461, 0.1330, 0.8957, 0.4501,\n",
      "         0.3535, 0.7862, 0.2354, 0.0165, 0.4781, 0.5170, 0.8620, 0.1907, 0.2592,\n",
      "         0.2105, 0.9314, 0.0448, 0.7457, 0.9743, 0.0397, 0.9970, 0.3014, 0.2040,\n",
      "         0.2449, 0.8206, 0.6406, 0.4586, 0.2463, 0.0906, 0.0883, 0.8186, 0.5592,\n",
      "         0.6348, 0.4020, 0.1952, 0.8455, 0.8034, 0.6735, 0.2824, 0.8294, 0.5163,\n",
      "         0.3350, 0.8768, 0.6519, 0.7541, 0.8699, 0.0074, 0.4564, 0.1181, 0.0293,\n",
      "         0.0475, 0.7182, 0.4337, 0.4805, 0.7185, 0.9405, 0.8873, 0.1912, 0.0680,\n",
      "         0.8653, 0.5178, 0.4571, 0.2200, 0.4020, 0.1638, 0.8519, 0.1799, 0.1118,\n",
      "         0.4051, 0.1923, 0.9184, 0.4026, 0.9416, 0.8676, 0.2871, 0.7471, 0.0142,\n",
      "         0.2207, 0.6638, 0.0949, 0.0816, 0.6181, 0.6461, 0.5572, 0.2839, 0.0063,\n",
      "         0.0241, 0.6012, 0.7265, 0.1399, 0.2157, 0.1300, 0.6668, 0.2701, 0.5469,\n",
      "         0.9258, 0.6989, 0.0183, 0.9479, 0.4655, 0.1287, 0.7935, 0.0452, 0.1139,\n",
      "         0.6244, 0.6710, 0.8288, 0.8950, 0.0174, 0.3747, 0.1165, 0.7363, 0.6992,\n",
      "         0.1436, 0.5721, 0.5128, 0.9563, 0.6004, 0.6938, 0.0113, 0.9478, 0.2053,\n",
      "         0.8929, 0.2405, 0.4491, 0.9007, 0.7364, 0.3103, 0.0395, 0.4133, 0.8634,\n",
      "         0.1678, 0.2832, 0.4789, 0.1409, 0.8634, 0.2226, 0.6401, 0.8590, 0.2427,\n",
      "         0.1983, 0.1196, 0.7801, 0.6989, 0.3814, 0.6742, 0.8615, 0.4526, 0.5875,\n",
      "         0.3901, 0.4987, 0.7620, 0.4784, 0.9359, 0.8183, 0.2239, 0.2211, 0.9286,\n",
      "         0.0053, 0.0298, 0.3627, 0.0144, 0.6134, 0.6655, 0.2496, 0.4075, 0.9277,\n",
      "         0.4432, 0.2833, 0.2197, 0.2318, 0.9363, 0.0661, 0.0739, 0.5586, 0.5097,\n",
      "         0.8152, 0.2095, 0.5982, 0.8659, 0.5526, 0.4250, 0.7395, 0.6509, 0.5672,\n",
      "         0.0487, 0.6346, 0.1561, 0.0584, 0.3133, 0.4812, 0.3980, 0.2343, 0.4792,\n",
      "         0.6177, 0.8715, 0.2571, 0.4258, 0.7704, 0.9439, 0.1591, 0.1827, 0.8563,\n",
      "         0.2896, 0.1950, 0.5368, 0.1924, 0.0772, 0.6839, 0.3417, 0.6264, 0.8982,\n",
      "         0.8974, 0.2697, 0.5864, 0.6010, 0.9280, 0.2717, 0.5110, 0.6941, 0.5173,\n",
      "         0.7281, 0.2178, 0.5557, 0.1100, 0.7306, 0.2502, 0.5109, 0.0227, 0.7736,\n",
      "         0.8407, 0.1430, 0.2125, 0.1911, 0.4939, 0.1705, 0.2596, 0.9723, 0.3635,\n",
      "         0.9320, 0.7485, 0.5639, 0.5192, 0.8365, 0.1188, 0.2862, 0.3002, 0.2271,\n",
      "         0.6657, 0.3379, 0.7108, 0.5530, 0.5064, 0.3282, 0.0123, 0.6301, 0.0681,\n",
      "         0.2662, 0.8253, 0.8500, 0.2702, 0.0611, 0.0418, 0.4830, 0.6261, 0.1382,\n",
      "         0.8688, 0.5810, 0.7579, 0.9184, 0.3097, 0.3071, 0.8954, 0.0299, 0.7403,\n",
      "         0.0709, 0.6626, 0.4195, 0.0785, 0.4848, 0.6337, 0.6919, 0.7350, 0.3069,\n",
      "         0.1731]])\n"
     ]
    }
   ],
   "source": [
    "# 加载预训练的ResNet-18模型\n",
    "model = resnet18(pretrained=True)\n",
    "data = torch.rand(1,3,64,64)\n",
    "print(data.shape)\n",
    "labels = torch.rand(1,1000) # 0~1之间\n",
    "print(labels.shape)"
   ],
   "metadata": {
    "collapsed": false,
    "ExecuteTime": {
     "end_time": "2024-04-01T06:53:39.053805500Z",
     "start_time": "2024-04-01T06:53:38.589086300Z"
    }
   },
   "id": "fb20b9ec3f8d3e77"
  },
  {
   "cell_type": "code",
   "execution_count": 10,
   "outputs": [
    {
     "data": {
      "text/plain": "torch.Size([1, 1000])"
     },
     "execution_count": 10,
     "metadata": {},
     "output_type": "execute_result"
    }
   ],
   "source": [
    "# 向前传递  \n",
    "prediction = model(data)\n",
    "prediction.shape"
   ],
   "metadata": {
    "collapsed": false,
    "ExecuteTime": {
     "end_time": "2024-04-01T07:05:58.105495700Z",
     "start_time": "2024-04-01T07:05:58.061410300Z"
    }
   },
   "id": "9abef0a2b7b7b9df"
  },
  {
   "cell_type": "code",
   "execution_count": 13,
   "outputs": [],
   "source": [
    "# 计算loss\n",
    "loss = (prediction-labels).sum()\n",
    "# 网络反向传播\n",
    "loss.backward()\n",
    "'''\n",
    "在第一行代码中，你计算了预测值与真实标签之间的损失，然后通过.sum()方法对损失进行了求和。\n",
    "\n",
    "在第二行代码中，你调用了.backward()方法，这会触发PyTorch中的自动微分机制，将损失函数关于模型参数的梯度计算出来，并将这些梯度存储在每个参数的.grad属性中。\n",
    "'''\n"
   ],
   "metadata": {
    "collapsed": false,
    "ExecuteTime": {
     "end_time": "2024-04-01T07:13:31.119382100Z",
     "start_time": "2024-04-01T07:13:29.663062500Z"
    }
   },
   "id": "a92ed38b0a517c83"
  },
  {
   "cell_type": "code",
   "execution_count": 15,
   "outputs": [],
   "source": [
    "# 加载优化器,在本例中为 SGD，学习率为 0.01，动量为 0.9。 我们在优化器中注册模型的所有参数。\n",
    "optim = torch.optim.SGD(model.parameters(),lr = 1e-2,momentum =0.9)"
   ],
   "metadata": {
    "collapsed": false,
    "ExecuteTime": {
     "end_time": "2024-04-01T07:28:54.589232700Z",
     "start_time": "2024-04-01T07:28:54.546829600Z"
    }
   },
   "id": "e497c0c4900be3cf"
  },
  {
   "cell_type": "code",
   "execution_count": 16,
   "outputs": [],
   "source": [
    "# 最后，我们调用启动梯度下降。优化器通过存储的梯度来调整每个参数。.step().grad\n",
    "optim.step()"
   ],
   "metadata": {
    "collapsed": false,
    "ExecuteTime": {
     "end_time": "2024-04-01T07:30:10.046248700Z",
     "start_time": "2024-04-01T07:30:09.998376500Z"
    }
   },
   "id": "1b25ca071d3f9e55"
  },
  {
   "cell_type": "code",
   "execution_count": 21,
   "outputs": [
    {
     "name": "stdout",
     "output_type": "stream",
     "text": [
      "tensor([True, True])\n",
      "tensor([True, True])\n"
     ]
    }
   ],
   "source": [
    "# Autograd的差异化\n",
    "a = torch.tensor([2,3],requires_grad=True,dtype=torch.float32)\n",
    "b = torch.tensor([6,4],requires_grad=True,dtype=torch.float32)\n",
    "# 另一个张量\n",
    "Q = 3*a**3 - b**2\n",
    "# 创建了一个张量 external_grad，其中包含两个值都为 1。这个张量将作为 Q 的外部梯度传入 backward() 方法中，用于计算 Q 对 a 和 b 的梯度。\n",
    "external_grad = torch.tensor([1., 1.])\n",
    "# 调用了 PyTorch 的 backward() 方法，计算了张量 Q 对 a 和 b 的梯度。gradient=external_grad 参数表示我们使用了外部提供的梯度来替代自动求导中的单位梯度，这样可以加速计算。\n",
    "Q.backward(gradient=external_grad)\n",
    "print(9*a**2 == a.grad)\n",
    "print(-2*b == b.grad)\n"
   ],
   "metadata": {
    "collapsed": false,
    "ExecuteTime": {
     "end_time": "2024-04-01T08:17:23.174649500Z",
     "start_time": "2024-04-01T08:17:23.107047500Z"
    }
   },
   "id": "1179d4d7c4c231f2"
  },
  {
   "cell_type": "code",
   "execution_count": 19,
   "outputs": [
    {
     "data": {
      "text/plain": "<Figure size 640x480 with 1 Axes>",
      "image/png": "[encoded data removed]"
     },
     "metadata": {},
     "output_type": "display_data"
    },
    {
     "name": "stdout",
     "output_type": "stream",
     "text": [
      "[ 0.          0.1010101   0.2020202   0.3030303   0.4040404   0.50505051\n",
      "  0.60606061  0.70707071  0.80808081  0.90909091  1.01010101  1.11111111\n",
      "  1.21212121  1.31313131  1.41414141  1.51515152  1.61616162  1.71717172\n",
      "  1.81818182  1.91919192  2.02020202  2.12121212  2.22222222  2.32323232\n",
      "  2.42424242  2.52525253  2.62626263  2.72727273  2.82828283  2.92929293\n",
      "  3.03030303  3.13131313  3.23232323  3.33333333  3.43434343  3.53535354\n",
      "  3.63636364  3.73737374  3.83838384  3.93939394  4.04040404  4.14141414\n",
      "  4.24242424  4.34343434  4.44444444  4.54545455  4.64646465  4.74747475\n",
      "  4.84848485  4.94949495  5.05050505  5.15151515  5.25252525  5.35353535\n",
      "  5.45454545  5.55555556  5.65656566  5.75757576  5.85858586  5.95959596\n",
      "  6.06060606  6.16161616  6.26262626  6.36363636  6.46464646  6.56565657\n",
      "  6.66666667  6.76767677  6.86868687  6.96969697  7.07070707  7.17171717\n",
      "  7.27272727  7.37373737  7.47474747  7.57575758  7.67676768  7.77777778\n",
      "  7.87878788  7.97979798  8.08080808  8.18181818  8.28282828  8.38383838\n",
      "  8.48484848  8.58585859  8.68686869  8.78787879  8.88888889  8.98989899\n",
      "  9.09090909  9.19191919  9.29292929  9.39393939  9.49494949  9.5959596\n",
      "  9.6969697   9.7979798   9.8989899  10.        ]\n"
     ]
    }
   ],
   "source": [
    "import matplotlib.pyplot as plt\n",
    "x = np.linspace(0,10,100)\n",
    "plt.plot(x,np.sin(x))\n",
    "plt.plot(x,np.cos(x))\n",
    "plt.show()\n",
    "print(x)\n",
    "\n"
   ],
   "metadata": {
    "collapsed": false,
    "ExecuteTime": {
     "end_time": "2024-04-01T07:34:54.746176Z",
     "start_time": "2024-04-01T07:34:54.355026500Z"
    }
   },
   "id": "47702da2a028ed44"
  },
  {
   "cell_type": "code",
   "execution_count": 12,
   "outputs": [
    {
     "name": "stdout",
     "output_type": "stream",
     "text": [
      "tensor([[1, 4],\n",
      "        [2, 5],\n",
      "        [3, 6]])\n"
     ]
    },
    {
     "name": "stderr",
     "output_type": "stream",
     "text": [
      "C:\\Users\\Administrator\\AppData\\Local\\Temp\\ipykernel_17712\\3149519479.py:5: UserWarning: To copy construct from a tensor, it is recommended to use sourceTensor.clone().detach() or sourceTensor.clone().detach().requires_grad_(True), rather than torch.tensor(sourceTensor).\n",
      "  data1= torch.tensor(data).permute(1,0)\n"
     ]
    }
   ],
   "source": [
    "# 交换维度\n",
    "data = torch.tensor([\n",
    "    [1,2,3],\n",
    "    [4,5,6]\n",
    "])\n",
    "data1= torch.tensor(data).permute(1,0)\n",
    "print(data1)"
   ],
   "metadata": {
    "collapsed": false,
    "ExecuteTime": {
     "end_time": "2024-04-01T07:10:19.726779300Z",
     "start_time": "2024-04-01T07:10:19.617031200Z"
    }
   },
   "id": "dc67f0a7748c7bc5"
  },
  {
   "cell_type": "code",
   "execution_count": null,
   "outputs": [],
   "source": [],
   "metadata": {
    "collapsed": false
   },
   "id": "2882d919e7351a8c"
  }
 ],
 "metadata": {
  "kernelspec": {
   "display_name": "Python 3",
   "language": "python",
   "name": "python3"
  },
  "language_info": {
   "codemirror_mode": {
    "name": "ipython",
    "version": 2
   },
   "file_extension": ".py",
   "mimetype": "text/x-python",
   "name": "python",
   "nbconvert_exporter": "python",
   "pygments_lexer": "ipython2",
   "version": "2.7.6"
  }
 },
 "nbformat": 4,
 "nbformat_minor": 5
}
