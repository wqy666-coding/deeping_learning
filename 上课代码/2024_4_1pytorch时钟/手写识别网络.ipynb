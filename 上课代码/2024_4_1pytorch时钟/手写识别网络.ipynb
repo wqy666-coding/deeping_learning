{
 "cells": [
  {
   "cell_type": "code",
   "execution_count": 34,
   "id": "initial_id",
   "metadata": {
    "collapsed": true,
    "ExecuteTime": {
     "end_time": "2024-04-02T05:56:23.701816Z",
     "start_time": "2024-04-02T05:56:23.656071200Z"
    }
   },
   "outputs": [],
   "source": [
    "import torch\n",
    "from torch import nn\n",
    "import torch.nn.functional as F\n",
    "from torch.utils.tensorboard import SummaryWriter"
   ]
  },
  {
   "cell_type": "code",
   "execution_count": 35,
   "outputs": [],
   "source": [
    "class Net(nn.Module):\n",
    "    def __init__(self):\n",
    "        super(Net,self).__init__()\n",
    "        self.conv1 = nn.Conv2d(1,6,5)\n",
    "        self.conv2 = nn.Conv2d(6,16,5)\n",
    "        self.fc1 = nn.Linear(16*5*5,120)\n",
    "        self.fc2 = nn.Linear(120,84)\n",
    "        self.fc3 = nn.Linear(84,10)\n",
    "    def forward(self,input):\n",
    "        input = F.max_pool2d(F.relu(self.conv1(input)),(2,2))\n",
    "        input = F.max_pool2d(F.relu(self.conv2(input)),(2,2))\n",
    "        print(input.shape)\n",
    "        input = torch.flatten(input,1)\n",
    "        input = F.relu(self.fc1(input))\n",
    "        input = F.relu(self.fc2(input))\n",
    "        x = self.fc3(input)\n",
    "        return x\n"
   ],
   "metadata": {
    "collapsed": false,
    "ExecuteTime": {
     "end_time": "2024-04-02T05:56:23.711763Z",
     "start_time": "2024-04-02T05:56:23.683650300Z"
    }
   },
   "id": "4c28b2872a0a5411"
  },
  {
   "cell_type": "code",
   "execution_count": 36,
   "outputs": [
    {
     "name": "stdout",
     "output_type": "stream",
     "text": [
      "Net(\n",
      "  (conv1): Conv2d(1, 6, kernel_size=(5, 5), stride=(1, 1))\n",
      "  (conv2): Conv2d(6, 16, kernel_size=(5, 5), stride=(1, 1))\n",
      "  (fc1): Linear(in_features=400, out_features=120, bias=True)\n",
      "  (fc2): Linear(in_features=120, out_features=84, bias=True)\n",
      "  (fc3): Linear(in_features=84, out_features=10, bias=True)\n",
      ")\n"
     ]
    }
   ],
   "source": [
    "net = Net()\n",
    "print(net)"
   ],
   "metadata": {
    "collapsed": false,
    "ExecuteTime": {
     "end_time": "2024-04-02T05:56:23.722732200Z",
     "start_time": "2024-04-02T05:56:23.708771400Z"
    }
   },
   "id": "2a5271d3d04a49b5"
  },
  {
   "cell_type": "code",
   "execution_count": 37,
   "outputs": [
    {
     "name": "stdout",
     "output_type": "stream",
     "text": [
      "10\n",
      "torch.Size([6, 1, 5, 5])\n"
     ]
    }
   ],
   "source": [
    "# 模型的可学参数\n",
    "params = list(net.parameters())\n",
    "print(len(params))\n",
    "print(params[0].size()) # conv1's .weight"
   ],
   "metadata": {
    "collapsed": false,
    "ExecuteTime": {
     "end_time": "2024-04-02T05:56:23.780579100Z",
     "start_time": "2024-04-02T05:56:23.723728300Z"
    }
   },
   "id": "86397024e74aaf7f"
  },
  {
   "cell_type": "code",
   "execution_count": 38,
   "outputs": [
    {
     "name": "stdout",
     "output_type": "stream",
     "text": [
      "torch.Size([1, 16, 5, 5])\n",
      "tensor([[ 0.0179,  0.0200,  0.0365, -0.1071,  0.0356, -0.1751,  0.0623,  0.0468,\n",
      "         -0.1521, -0.0769]], grad_fn=<AddmmBackward0>)\n",
      "6\n",
      "torch.Size([1, 16, 5, 5])\n",
      "torch.Size([1, 16, 5, 5])\n",
      "torch.Size([1, 16, 5, 5])\n"
     ]
    }
   ],
   "source": [
    "input = torch.randn(1,1,32,32)\n",
    "out = net(input)\n",
    "print(out)\n",
    "print(out.argmax(1).item())\n",
    "writer = SummaryWriter(\"nn_net\") \n",
    "writer.add_graph(net,input)\n",
    "writer.close()"
   ],
   "metadata": {
    "collapsed": false,
    "ExecuteTime": {
     "end_time": "2024-04-02T05:56:23.879313Z",
     "start_time": "2024-04-02T05:56:23.737712500Z"
    }
   },
   "id": "d0ee1f0ebee62e7d"
  },
  {
   "cell_type": "code",
   "execution_count": 39,
   "outputs": [],
   "source": [
    "# 使用随机将所有参数和反向道具的梯度缓冲区归零 梯度\n",
    "net.zero_grad()\n",
    "out.backward(torch.randn(1,10))"
   ],
   "metadata": {
    "collapsed": false,
    "ExecuteTime": {
     "end_time": "2024-04-02T05:56:23.921201700Z",
     "start_time": "2024-04-02T05:56:23.881307900Z"
    }
   },
   "id": "262a149f804838f1"
  },
  {
   "cell_type": "code",
   "execution_count": 40,
   "outputs": [],
   "source": [
    "# 上面和下面是分开的\n",
    "# 损失函数"
   ],
   "metadata": {
    "collapsed": false,
    "ExecuteTime": {
     "end_time": "2024-04-02T05:56:23.930176600Z",
     "start_time": "2024-04-02T05:56:23.895270300Z"
    }
   },
   "id": "ea270c0e5a31a306"
  },
  {
   "cell_type": "code",
   "execution_count": 41,
   "outputs": [
    {
     "name": "stdout",
     "output_type": "stream",
     "text": [
      "torch.Size([1, 16, 5, 5])\n",
      "tensor([ 0.1867, -0.0144,  1.4226, -1.3227,  1.1750,  0.6694, -1.4670, -0.4977,\n",
      "         0.1439, -1.5149])\n",
      "2\n",
      "tensor(1.0230, grad_fn=<MseLossBackward0>)\n",
      "torch.Size([1, 10])\n"
     ]
    }
   ],
   "source": [
    "\n",
    "output = net(input)\n",
    "target = torch.randn(10)  # a dummy target, for example\n",
    "print(target)\n",
    "print(target.argmax().item())\n",
    "# print(target.shape)\n",
    "target = target.view(1, -1)  # make it the same shape as output\n",
    "criterion = nn.MSELoss()\n",
    "\n",
    "loss = criterion(output, target)\n",
    "print(loss)\n",
    "print(target.shape)"
   ],
   "metadata": {
    "collapsed": false,
    "ExecuteTime": {
     "end_time": "2024-04-02T05:56:23.931176500Z",
     "start_time": "2024-04-02T05:56:23.913222600Z"
    }
   },
   "id": "ca9a6f41f30c1807"
  },
  {
   "cell_type": "code",
   "execution_count": 42,
   "outputs": [
    {
     "name": "stdout",
     "output_type": "stream",
     "text": [
      "<MseLossBackward0 object at 0x000002C8D58FDB20>\n",
      "<AddmmBackward0 object at 0x000002C8D58FD850>\n",
      "<AccumulateGrad object at 0x000002C8D58FDB20>\n"
     ]
    }
   ],
   "source": [
    "# 向后走几个步骤\n",
    "print(loss.grad_fn)# MSELoss\n",
    "print(loss.grad_fn.next_functions[0][0])  # Linear\n",
    "print(loss.grad_fn.next_functions[0][0].next_functions[0][0])  # ReLU"
   ],
   "metadata": {
    "collapsed": false,
    "ExecuteTime": {
     "end_time": "2024-04-02T05:56:23.942144800Z",
     "start_time": "2024-04-02T05:56:23.929182200Z"
    }
   },
   "id": "4b56fa5585afa424"
  },
  {
   "cell_type": "code",
   "execution_count": 43,
   "outputs": [
    {
     "name": "stdout",
     "output_type": "stream",
     "text": [
      "conv1.bias.grad before backward\n",
      "tensor([0., 0., 0., 0., 0., 0.])\n",
      "conv1.bias.grad after backward\n",
      "tensor([-0.0070,  0.0111, -0.0127,  0.0056,  0.0381, -0.0006])\n"
     ]
    }
   ],
   "source": [
    "# 反向传播\n",
    "# 第一步，清空已有的梯度\n",
    "net.zero_grad()\n",
    "print('conv1.bias.grad before backward') # 反向传播之前，第一层卷积偏置的梯度\n",
    "print(net.conv1.bias.grad)\n",
    "loss.backward()\n",
    "print('conv1.bias.grad after backward')\n",
    "print(net.conv1.bias.grad) # 反向传播之后，第一层卷积偏置的梯度"
   ],
   "metadata": {
    "collapsed": false,
    "ExecuteTime": {
     "end_time": "2024-04-02T05:56:23.998992400Z",
     "start_time": "2024-04-02T05:56:23.944141900Z"
    }
   },
   "id": "3bbd9468faafc820"
  },
  {
   "cell_type": "code",
   "execution_count": null,
   "outputs": [],
   "source": [
    "# 更新权重\n",
    "#weight = weight - learning_rate * gradient\n",
    "learning_rate = 0.01\n",
    "for f in net.parameters():\n",
    "    f.data.sub_(f.grad.data * learning_rate)\n",
    "\"\"\"\n",
    "for f in net.parameters():：遍历神经网络 net 中的所有参数。神经网络的参数包括权重和偏置。\n",
    "\n",
    "f.data：获取参数 f 的数据值，即参数的当前值。\n",
    "\n",
    "f.grad.data：获取参数 f 的梯度值。在反向传播过程中，PyTorch 会自动计算每个参数的梯度，并存储在 grad 属性中。\n",
    "\n",
    "f.data.sub_(f.grad.data * learning_rate)：这是参数更新的核心部分。它表示将参数的当前值减去梯度乘以学习率的值。这里使用了 PyTorch 中的 sub_() 方法，它表示就地减法操作，即直接修改参数的值而不创建新的张量。\n",
    "\"\"\""
   ],
   "metadata": {
    "collapsed": false
   },
   "id": "af02ea097b349afe"
  },
  {
   "cell_type": "code",
   "execution_count": 50,
   "outputs": [
    {
     "name": "stdout",
     "output_type": "stream",
     "text": [
      "torch.Size([1, 16, 5, 5])\n"
     ]
    }
   ],
   "source": [
    "# 反向传播加权重更新\n",
    "import torch.optim as optim\n",
    "\n",
    "# create your optimizer\n",
    "optimizer = optim.SGD(net.parameters(), lr=0.01)\n",
    "\n",
    "#in your training loop:\n",
    "optimizer.zero_grad()   # zero the gradient buffers\n",
    "output = net(input)\n",
    "loss = criterion(output, target)\n",
    "loss.backward()\n",
    "optimizer.step()    # Does the update"
   ],
   "metadata": {
    "collapsed": false,
    "ExecuteTime": {
     "end_time": "2024-04-02T06:02:27.303034400Z",
     "start_time": "2024-04-02T06:02:27.282089200Z"
    }
   },
   "id": "b071bc0ceedec41d"
  },
  {
   "cell_type": "code",
   "execution_count": null,
   "outputs": [],
   "source": [],
   "metadata": {
    "collapsed": false
   },
   "id": "125b2cf36a907885"
  }
 ],
 "metadata": {
  "kernelspec": {
   "display_name": "Python 3",
   "language": "python",
   "name": "python3"
  },
  "language_info": {
   "codemirror_mode": {
    "name": "ipython",
    "version": 2
   },
   "file_extension": ".py",
   "mimetype": "text/x-python",
   "name": "python",
   "nbconvert_exporter": "python",
   "pygments_lexer": "ipython2",
   "version": "2.7.6"
  }
 },
 "nbformat": 4,
 "nbformat_minor": 5
}
